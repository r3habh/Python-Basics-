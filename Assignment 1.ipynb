{
 "cells": [
  {
   "cell_type": "markdown",
   "id": "06a17d85",
   "metadata": {},
   "source": [
    " "
   ]
  },
  {
   "cell_type": "markdown",
   "id": "067bc1c9",
   "metadata": {},
   "source": [
    "## Q1. In the below elements which of them are values or an expression? eg:- values can be integer or string and expressions will be mathematical operators.\n",
    "\n",
    "[* ,'hello', -87.8, - , / , +\t,6 ]\n"
   ]
  },
  {
   "cell_type": "raw",
   "id": "98a0f117",
   "metadata": {},
   "source": [
    "Values- ['hello', -87.8,6 ]             \n",
    "Expression-[*, - , / , + ]"
   ]
  },
  {
   "cell_type": "markdown",
   "id": "b0d1a97d",
   "metadata": {},
   "source": [
    "# "
   ]
  },
  {
   "cell_type": "markdown",
   "id": "cd7a8af6",
   "metadata": {},
   "source": [
    "## Q2. What is the difference between string and variable? "
   ]
  },
  {
   "cell_type": "markdown",
   "id": "6ebafdc5",
   "metadata": {},
   "source": [
    "Variable can be assigned a value. And, string is a type of information which can be stored in variables."
   ]
  },
  {
   "cell_type": "markdown",
   "id": "512024d2",
   "metadata": {},
   "source": [
    " "
   ]
  },
  {
   "cell_type": "markdown",
   "id": "3f140c82",
   "metadata": {},
   "source": [
    "## Q3. Describe three different data types."
   ]
  },
  {
   "cell_type": "raw",
   "id": "e91b850c",
   "metadata": {},
   "source": [
    "Integer(Int) - 7,8,9\n",
    "Float {Decimals} - 7.5 ,8.0 ,9.7\n",
    "String(Str) {Words/Sentences/Numbers}- 'hello', 'good','8','8.1'"
   ]
  },
  {
   "cell_type": "markdown",
   "id": "37a4c8c1",
   "metadata": {},
   "source": [
    " "
   ]
  },
  {
   "cell_type": "markdown",
   "id": "e6100fff",
   "metadata": {},
   "source": [
    "## Q4. What is an expression made up of? What do all expressions do?"
   ]
  },
  {
   "cell_type": "markdown",
   "id": "467b4e94",
   "metadata": {},
   "source": [
    "A sequence of operands(Eg: 5,6,7.9) and operators(Eg: /,-,+) is called an expression. They are used to produce a value for a variable.\n",
    "Eg: a+b-5/3"
   ]
  },
  {
   "cell_type": "markdown",
   "id": "e5b94c9e",
   "metadata": {},
   "source": [
    " "
   ]
  },
  {
   "cell_type": "markdown",
   "id": "40d3c60a",
   "metadata": {},
   "source": [
    "## Q5. This assignment statements, like spam = 10. What is the difference between an expression and a statement?"
   ]
  },
  {
   "cell_type": "markdown",
   "id": "09965ceb",
   "metadata": {},
   "source": [
    "Statement are commands like assignment statement given above. Expression is a combination of operands and operators that yields a result value."
   ]
  },
  {
   "cell_type": "markdown",
   "id": "90189d1c",
   "metadata": {},
   "source": [
    " "
   ]
  },
  {
   "cell_type": "markdown",
   "id": "cd6b60b3",
   "metadata": {},
   "source": [
    "## Q6. After running the following code, what does the variable bacon contain?\n",
    "\n",
    " "
   ]
  },
  {
   "cell_type": "code",
   "execution_count": 4,
   "id": "d0e59d1f",
   "metadata": {},
   "outputs": [],
   "source": [
    "# bacon = 22\n",
    "# bacon + 1"
   ]
  },
  {
   "cell_type": "markdown",
   "id": "4ee9d411",
   "metadata": {},
   "source": [
    "bacon=22, as assigned value has not been changed by adding 1. "
   ]
  },
  {
   "cell_type": "markdown",
   "id": "96fae0b1",
   "metadata": {},
   "source": [
    "# "
   ]
  },
  {
   "cell_type": "markdown",
   "id": "679b6277",
   "metadata": {},
   "source": [
    "## Q7. What should the values of the following two terms be?\n",
    "\n",
    " "
   ]
  },
  {
   "cell_type": "code",
   "execution_count": 9,
   "id": "f3e4d9b6",
   "metadata": {},
   "outputs": [],
   "source": [
    "#1- 'spam' + 'spamspam'\n",
    "#2- 'spam' * 3"
   ]
  },
  {
   "cell_type": "markdown",
   "id": "f292390b",
   "metadata": {},
   "source": [
    "Output of both is 'spamspamspam' , as both operations are done with string."
   ]
  },
  {
   "cell_type": "markdown",
   "id": "23418b73",
   "metadata": {},
   "source": [
    " "
   ]
  },
  {
   "cell_type": "markdown",
   "id": "26932afd",
   "metadata": {},
   "source": [
    "## Q8. Why is eggs a valid variable name while 100 is invalid? "
   ]
  },
  {
   "cell_type": "markdown",
   "id": "74ff6cf9",
   "metadata": {},
   "source": [
    "It is so because eggs value can be changed but value of 100 is fixed."
   ]
  },
  {
   "cell_type": "markdown",
   "id": "556d0a5e",
   "metadata": {},
   "source": [
    " "
   ]
  },
  {
   "cell_type": "markdown",
   "id": "9814742b",
   "metadata": {},
   "source": [
    "## Q9. What three functions can be used to get the integer, floating-point number, or string version of a value? "
   ]
  },
  {
   "cell_type": "raw",
   "id": "9afe593e",
   "metadata": {},
   "source": [
    "1- int(),\n",
    "2-float(),\n",
    "3- str()"
   ]
  },
  {
   "cell_type": "markdown",
   "id": "7466c1ba",
   "metadata": {},
   "source": [
    " "
   ]
  },
  {
   "cell_type": "markdown",
   "id": "cd739272",
   "metadata": {},
   "source": [
    "## Q10. Why does this expression cause an error? How can you fix it?\n",
    "'I have eaten ' + 99 + ' burritos.'\n"
   ]
  },
  {
   "cell_type": "raw",
   "id": "93492386",
   "metadata": {},
   "source": [
    "In the above expression, 99 is not a string. So, we cannot do operations with different data types."
   ]
  },
  {
   "cell_type": "raw",
   "id": "2e77ef08",
   "metadata": {},
   "source": [
    "Solution- We can change the data type of 99 to string.Then the operations will be done without error."
   ]
  },
  {
   "cell_type": "code",
   "execution_count": 12,
   "id": "da53edc3",
   "metadata": {},
   "outputs": [
    {
     "data": {
      "text/plain": [
       "'I have eaten 99 burritos.'"
      ]
     },
     "execution_count": 12,
     "metadata": {},
     "output_type": "execute_result"
    }
   ],
   "source": [
    "'I have eaten ' + '99' + ' burritos.'"
   ]
  }
 ],
 "metadata": {
  "kernelspec": {
   "display_name": "Python 3 (ipykernel)",
   "language": "python",
   "name": "python3"
  },
  "language_info": {
   "codemirror_mode": {
    "name": "ipython",
    "version": 3
   },
   "file_extension": ".py",
   "mimetype": "text/x-python",
   "name": "python",
   "nbconvert_exporter": "python",
   "pygments_lexer": "ipython3",
   "version": "3.9.13"
  }
 },
 "nbformat": 4,
 "nbformat_minor": 5
}
