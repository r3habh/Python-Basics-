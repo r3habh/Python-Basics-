{
 "cells": [
  {
   "cell_type": "markdown",
   "id": "5683a6be",
   "metadata": {},
   "source": [
    "# Python Basics"
   ]
  },
  {
   "cell_type": "markdown",
   "id": "e49d7929",
   "metadata": {},
   "source": [
    "## Assignment 18"
   ]
  },
  {
   "cell_type": "markdown",
   "id": "821df47d",
   "metadata": {},
   "source": [
    "# "
   ]
  },
  {
   "cell_type": "markdown",
   "id": "26128ffe",
   "metadata": {},
   "source": [
    "## Q1. Create a zoo.py file first. Define the hours() function, which prints the string &#39;Open 9-5 daily&#39;.Then, use the interactive interpreter to import the zoo module and call its hours() function."
   ]
  },
  {
   "cell_type": "markdown",
   "id": "d78ee453",
   "metadata": {},
   "source": [
    "#### Ans-"
   ]
  },
  {
   "cell_type": "code",
   "execution_count": 1,
   "id": "48359c1f",
   "metadata": {},
   "outputs": [
    {
     "name": "stdout",
     "output_type": "stream",
     "text": [
      "Open 9-5 daily\n"
     ]
    }
   ],
   "source": [
    "import zoo\n",
    "zoo.hours()"
   ]
  },
  {
   "cell_type": "markdown",
   "id": "c6123ab6",
   "metadata": {},
   "source": [
    "###### ------------------------------------------------------------------------------------------------------------------------------------------------------------------------------------------------------------------"
   ]
  },
  {
   "cell_type": "markdown",
   "id": "ef6a3b76",
   "metadata": {},
   "source": [
    "## Q2. In the interactive interpreter, import the zoo module as menagerie and call its hours() function."
   ]
  },
  {
   "cell_type": "markdown",
   "id": "48d6a63b",
   "metadata": {},
   "source": [
    "#### Ans-"
   ]
  },
  {
   "cell_type": "code",
   "execution_count": 2,
   "id": "f999cd17",
   "metadata": {},
   "outputs": [
    {
     "name": "stdout",
     "output_type": "stream",
     "text": [
      "Open 9-5 daily\n"
     ]
    }
   ],
   "source": [
    "import zoo as menagerie\n",
    "menagerie.hours()"
   ]
  },
  {
   "cell_type": "markdown",
   "id": "a32362f9",
   "metadata": {},
   "source": [
    "###### ------------------------------------------------------------------------------------------------------------------------------------------------------------------------------------------------------------------"
   ]
  },
  {
   "cell_type": "markdown",
   "id": "30ba647f",
   "metadata": {},
   "source": [
    "## Q3. Using the interpreter, explicitly import and call the hours() function from zoo."
   ]
  },
  {
   "cell_type": "markdown",
   "id": "a5c01527",
   "metadata": {},
   "source": [
    "#### Ans-"
   ]
  },
  {
   "cell_type": "code",
   "execution_count": 3,
   "id": "fe7af8ed",
   "metadata": {
    "scrolled": true
   },
   "outputs": [
    {
     "name": "stdout",
     "output_type": "stream",
     "text": [
      "Open 9-5 daily\n"
     ]
    }
   ],
   "source": [
    "from zoo import hours\n",
    "hours()"
   ]
  },
  {
   "cell_type": "markdown",
   "id": "c7b406bb",
   "metadata": {},
   "source": [
    "###### ------------------------------------------------------------------------------------------------------------------------------------------------------------------------------------------------------------------"
   ]
  },
  {
   "cell_type": "markdown",
   "id": "c7829a17",
   "metadata": {},
   "source": [
    "## Q4. Import the hours() function as info and call it."
   ]
  },
  {
   "cell_type": "markdown",
   "id": "c393ea7e",
   "metadata": {},
   "source": [
    "#### Ans-"
   ]
  },
  {
   "cell_type": "code",
   "execution_count": 4,
   "id": "6c752a7a",
   "metadata": {
    "scrolled": true
   },
   "outputs": [
    {
     "name": "stdout",
     "output_type": "stream",
     "text": [
      "Open 9-5 daily\n"
     ]
    }
   ],
   "source": [
    "from zoo import hours as info\n",
    "info()"
   ]
  },
  {
   "cell_type": "markdown",
   "id": "7f4715dc",
   "metadata": {},
   "source": [
    "###### ------------------------------------------------------------------------------------------------------------------------------------------------------------------------------------------------------------------"
   ]
  },
  {
   "cell_type": "markdown",
   "id": "ae89f400",
   "metadata": {},
   "source": [
    "## Q5. Create a plain dictionary with the key-value pairs &#39;a&#39;: 1, &#39;b&#39;: 2, and &#39;c&#39;: 3, and print it out."
   ]
  },
  {
   "cell_type": "markdown",
   "id": "332c9cb6",
   "metadata": {},
   "source": [
    "#### Ans-"
   ]
  },
  {
   "cell_type": "code",
   "execution_count": 5,
   "id": "ee16eff3",
   "metadata": {
    "scrolled": true
   },
   "outputs": [
    {
     "data": {
      "text/plain": [
       "{'a': 1, 'b': 2, 'c': 3}"
      ]
     },
     "execution_count": 5,
     "metadata": {},
     "output_type": "execute_result"
    }
   ],
   "source": [
    "plain={'a': 1, 'b': 2, 'c': 3}\n",
    "plain"
   ]
  },
  {
   "cell_type": "markdown",
   "id": "101622ab",
   "metadata": {},
   "source": [
    "###### ------------------------------------------------------------------------------------------------------------------------------------------------------------------------------------------------------------------"
   ]
  },
  {
   "cell_type": "markdown",
   "id": "3daf909a",
   "metadata": {},
   "source": [
    "## Q6.Make an OrderedDict called fancy from the same pairs listed in 5 and print it. Did it print in the same order as plain?"
   ]
  },
  {
   "cell_type": "markdown",
   "id": "d6fd6734",
   "metadata": {},
   "source": [
    "#### Ans-"
   ]
  },
  {
   "cell_type": "code",
   "execution_count": 6,
   "id": "59067a90",
   "metadata": {
    "scrolled": true
   },
   "outputs": [
    {
     "data": {
      "text/plain": [
       "OrderedDict([('a', 1), ('b', 2), ('c', 3)])"
      ]
     },
     "execution_count": 6,
     "metadata": {},
     "output_type": "execute_result"
    }
   ],
   "source": [
    "from collections import OrderedDict\n",
    "\n",
    "fancy = OrderedDict([('a', 1), ('b', 2), ('c', 3)])\n",
    "fancy"
   ]
  },
  {
   "cell_type": "markdown",
   "id": "5c0b0d81",
   "metadata": {},
   "source": [
    "###### ------------------------------------------------------------------------------------------------------------------------------------------------------------------------------------------------------------------"
   ]
  },
  {
   "cell_type": "markdown",
   "id": "0efb71d9",
   "metadata": {},
   "source": [
    "## Q7. Make a default dictionary called dict_of_lists and pass it the argument list. Make the list dict_of_lists[&#39;a&#39;] and append the value &#39;something for a&#39; to it in one assignment. Print dict_of_lists[&#39;a&#39;]."
   ]
  },
  {
   "cell_type": "markdown",
   "id": "af15ac65",
   "metadata": {},
   "source": [
    "#### Ans-"
   ]
  },
  {
   "cell_type": "code",
   "execution_count": 7,
   "id": "67c3e764",
   "metadata": {},
   "outputs": [
    {
     "data": {
      "text/plain": [
       "['something for a']"
      ]
     },
     "execution_count": 7,
     "metadata": {},
     "output_type": "execute_result"
    }
   ],
   "source": [
    "from collections import defaultdict\n",
    "\n",
    "dict_of_lists = defaultdict(list)\n",
    "dict_of_lists['a'].append('something for a')\n",
    "dict_of_lists['a']"
   ]
  },
  {
   "cell_type": "markdown",
   "id": "1be47d7e",
   "metadata": {},
   "source": [
    "###### ------------------------------------------------------------------------------------------------------------------------------------------------------------------------------------------------------------------"
   ]
  }
 ],
 "metadata": {
  "kernelspec": {
   "display_name": "Python 3 (ipykernel)",
   "language": "python",
   "name": "python3"
  },
  "language_info": {
   "codemirror_mode": {
    "name": "ipython",
    "version": 3
   },
   "file_extension": ".py",
   "mimetype": "text/x-python",
   "name": "python",
   "nbconvert_exporter": "python",
   "pygments_lexer": "ipython3",
   "version": "3.9.13"
  }
 },
 "nbformat": 4,
 "nbformat_minor": 5
}
