{
 "cells": [
  {
   "cell_type": "markdown",
   "id": "330d6ce5",
   "metadata": {},
   "source": [
    "# Python Basics"
   ]
  },
  {
   "cell_type": "markdown",
   "id": "1d12bf64",
   "metadata": {},
   "source": [
    "## Assignment 12"
   ]
  },
  {
   "cell_type": "markdown",
   "id": "f2707343",
   "metadata": {},
   "source": [
    "# "
   ]
  },
  {
   "cell_type": "markdown",
   "id": "afa13102",
   "metadata": {},
   "source": [
    "## Q1. In what modes should the PdfFileReader() and PdfFileWriter() File objects will be opened?"
   ]
  },
  {
   "cell_type": "markdown",
   "id": "c614e70f",
   "metadata": {},
   "source": [
    "#### Ans-"
   ]
  },
  {
   "cell_type": "code",
   "execution_count": 1,
   "id": "9c572c07",
   "metadata": {},
   "outputs": [
    {
     "name": "stdout",
     "output_type": "stream",
     "text": [
      "Collecting PyPDF2Note: you may need to restart the kernel to use updated packages.\n",
      "\n",
      "  Downloading pypdf2-2.11.2-py3-none-any.whl (220 kB)\n",
      "     -------------------------------------- 220.6/220.6 kB 1.9 MB/s eta 0:00:00\n",
      "Requirement already satisfied: typing_extensions>=3.10.0.0 in c:\\users\\rishabh\\anaconda3\\lib\\site-packages (from PyPDF2) (4.3.0)\n",
      "Installing collected packages: PyPDF2\n",
      "Successfully installed PyPDF2-2.11.2\n"
     ]
    }
   ],
   "source": [
    "pip install PyPDF2"
   ]
  },
  {
   "cell_type": "code",
   "execution_count": 17,
   "id": "9ec42969",
   "metadata": {},
   "outputs": [],
   "source": [
    "from PyPDF2 import PdfFileReader\n",
    "\n",
    "pdf_object = open(\"bearings.pdf\",'rb')\n",
    "reader= PdfFileReader(pdf_object)"
   ]
  },
  {
   "cell_type": "code",
   "execution_count": 18,
   "id": "a8fd1ba1",
   "metadata": {},
   "outputs": [
    {
     "data": {
      "text/plain": [
       "<PyPDF2._reader.PdfFileReader at 0xbb18740520>"
      ]
     },
     "execution_count": 18,
     "metadata": {},
     "output_type": "execute_result"
    }
   ],
   "source": [
    "reader"
   ]
  },
  {
   "cell_type": "code",
   "execution_count": 11,
   "id": "ca36cee5",
   "metadata": {},
   "outputs": [],
   "source": [
    "from PyPDF2 import PdfFileWriter\n",
    "\n",
    "pdf_object = open(\"sample.pdf\",'wb')\n",
    "writer= PdfFileWriter(pdf_object)"
   ]
  },
  {
   "cell_type": "code",
   "execution_count": 12,
   "id": "ab55dad3",
   "metadata": {},
   "outputs": [
    {
     "data": {
      "text/plain": [
       "<PyPDF2._writer.PdfFileWriter at 0xbeeca2d3a0>"
      ]
     },
     "execution_count": 12,
     "metadata": {},
     "output_type": "execute_result"
    }
   ],
   "source": [
    "writer"
   ]
  },
  {
   "cell_type": "markdown",
   "id": "282a1705",
   "metadata": {},
   "source": [
    "PdfFileReader()- These functions require file objects to be opened in 'rb'. Which is short form for read binary.\n",
    "\n",
    "PdfFileWriter()- Similarly, we use 'wb' for this function. Where 'wb' is write binary."
   ]
  },
  {
   "cell_type": "markdown",
   "id": "39cf546b",
   "metadata": {},
   "source": [
    "###### ------------------------------------------------------------------------------------------------------------------------------------------------------------------------------------------------------------------"
   ]
  },
  {
   "cell_type": "markdown",
   "id": "7c742ee3",
   "metadata": {},
   "source": [
    "## Q2. From a PdfFileReader object, how do you get a Page object for page 5?"
   ]
  },
  {
   "cell_type": "markdown",
   "id": "bc30a7b7",
   "metadata": {},
   "source": [
    "#### Ans-"
   ]
  },
  {
   "cell_type": "code",
   "execution_count": 26,
   "id": "52bc9fe2",
   "metadata": {},
   "outputs": [],
   "source": [
    "pdf_object = open(\"bearings.pdf\",'rb')\n",
    "reader= PdfFileReader(pdf_object)\n",
    "page_object = reader.getPage(4)"
   ]
  },
  {
   "cell_type": "code",
   "execution_count": 27,
   "id": "63e80502",
   "metadata": {},
   "outputs": [
    {
     "name": "stdout",
     "output_type": "stream",
     "text": [
      "2.Depending uponthenatureofcontact.The\n",
      "bearingsunderthisgroupareclassified as:\n",
      "(a)Slidingcontactbearings, and(b)Rollingcontact\n",
      "bearings.\n",
      "•Inslidingcontactbearings, theslidingtakesplace\n",
      "alongthesurfaces ofcontactbetween themoving\n",
      "elementandthefixedelement.Theslidingcontact\n",
      "bearingsarealsoknownasplainbearings.2.Depending uponthenatureofcontact.The\n",
      "bearingsunderthisgroupareclassified as:\n",
      "(a)Slidingcontactbearings, and(b)Rollingcontact\n",
      "bearings.\n",
      "•Inslidingcontactbearings, theslidingtakesplace\n",
      "alongthesurfaces ofcontactbetween themoving\n",
      "elementandthefixedelement.Theslidingcontact\n",
      "bearingsarealsoknownasplainbearings.\n",
      "\n"
     ]
    }
   ],
   "source": [
    "print(page_object.extract_text())"
   ]
  },
  {
   "cell_type": "markdown",
   "id": "7f5f9547",
   "metadata": {},
   "source": [
    "###### ------------------------------------------------------------------------------------------------------------------------------------------------------------------------------------------------------------------"
   ]
  },
  {
   "cell_type": "markdown",
   "id": "f7a40bd6",
   "metadata": {},
   "source": [
    "## Q3. What PdfFileReader variable stores the number of pages in the PDF document?"
   ]
  },
  {
   "cell_type": "markdown",
   "id": "f557602e",
   "metadata": {},
   "source": [
    "#### Ans-"
   ]
  },
  {
   "cell_type": "code",
   "execution_count": 34,
   "id": "920c12d0",
   "metadata": {},
   "outputs": [],
   "source": [
    "pdf_object = open(\"bearings.pdf\",'rb')\n",
    "reader= PdfFileReader(pdf_object)\n",
    "total_pages = reader.numPages"
   ]
  },
  {
   "cell_type": "code",
   "execution_count": 35,
   "id": "63ba8883",
   "metadata": {},
   "outputs": [
    {
     "data": {
      "text/plain": [
       "19"
      ]
     },
     "execution_count": 35,
     "metadata": {},
     "output_type": "execute_result"
    }
   ],
   "source": [
    "total_pages"
   ]
  },
  {
   "cell_type": "markdown",
   "id": "57ae56dd",
   "metadata": {},
   "source": [
    "###### ------------------------------------------------------------------------------------------------------------------------------------------------------------------------------------------------------------------"
   ]
  },
  {
   "cell_type": "markdown",
   "id": "144f6d06",
   "metadata": {},
   "source": [
    "## Q4. If a PdfFileReader object’s PDF is encrypted with the password swordfish, what must you do before you can obtain Page objects from it?"
   ]
  },
  {
   "cell_type": "markdown",
   "id": "d4b7679d",
   "metadata": {},
   "source": [
    "#### Ans-"
   ]
  },
  {
   "cell_type": "code",
   "execution_count": 36,
   "id": "91cb3e54",
   "metadata": {},
   "outputs": [],
   "source": [
    "if reader.is_encrypted:\n",
    "    reader.decrypt(\"swordfish\")"
   ]
  },
  {
   "cell_type": "markdown",
   "id": "4e3a9ffe",
   "metadata": {},
   "source": [
    "###### ------------------------------------------------------------------------------------------------------------------------------------------------------------------------------------------------------------------"
   ]
  },
  {
   "cell_type": "markdown",
   "id": "d5d4d26e",
   "metadata": {},
   "source": [
    "## Q5. What methods do you use to rotate a page?"
   ]
  },
  {
   "cell_type": "markdown",
   "id": "f92b177c",
   "metadata": {},
   "source": [
    "#### Ans-"
   ]
  },
  {
   "cell_type": "markdown",
   "id": "45488823",
   "metadata": {},
   "source": [
    "rotate(angle:int)- It rotates the page clockwise by default by increments of 90 degrees.\n",
    "\n",
    "rotate_clockwise() - With positive argument it rotates clockwise and with negative argument, it rotates anticlockwise."
   ]
  },
  {
   "cell_type": "code",
   "execution_count": null,
   "id": "d8af0ad8",
   "metadata": {},
   "outputs": [],
   "source": [
    "pdf_object = open(\"bearings.pdf\",'rb')\n",
    "reader= PdfFileReader(pdf_object)\n",
    "reader.pages[0].rotate(90)"
   ]
  },
  {
   "cell_type": "markdown",
   "id": "b176ad97",
   "metadata": {},
   "source": [
    "###### ------------------------------------------------------------------------------------------------------------------------------------------------------------------------------------------------------------------"
   ]
  },
  {
   "cell_type": "markdown",
   "id": "c203f3f8",
   "metadata": {},
   "source": [
    "## Q6. What is the difference between a Run object and a Paragraph object?"
   ]
  },
  {
   "cell_type": "markdown",
   "id": "6fa0b6ca",
   "metadata": {},
   "source": [
    "#### Ans-"
   ]
  },
  {
   "cell_type": "markdown",
   "id": "7ad1320a",
   "metadata": {},
   "source": [
    "Paragraph object- represent whole paragraphs of the document.\n",
    "\n",
    "Run- represent the text with the same style/format."
   ]
  },
  {
   "cell_type": "markdown",
   "id": "b293e509",
   "metadata": {},
   "source": [
    "###### ------------------------------------------------------------------------------------------------------------------------------------------------------------------------------------------------------------------"
   ]
  },
  {
   "cell_type": "markdown",
   "id": "f2e552d6",
   "metadata": {},
   "source": [
    "## Q7. How do you obtain a list of Paragraph objects for a Document object that’s stored in a variable named doc?"
   ]
  },
  {
   "cell_type": "markdown",
   "id": "b6020fda",
   "metadata": {},
   "source": [
    "#### Ans-"
   ]
  },
  {
   "cell_type": "code",
   "execution_count": 1,
   "id": "5cbefc1d",
   "metadata": {},
   "outputs": [
    {
     "name": "stdout",
     "output_type": "stream",
     "text": [
      "Collecting python-docxNote: you may need to restart the kernel to use updated packages.\n",
      "\n",
      "  Downloading python-docx-0.8.11.tar.gz (5.6 MB)\n",
      "     ---------------------------------------- 5.6/5.6 MB 3.2 MB/s eta 0:00:00\n",
      "  Preparing metadata (setup.py): started\n",
      "  Preparing metadata (setup.py): finished with status 'done'\n",
      "Requirement already satisfied: lxml>=2.3.2 in c:\\users\\rishabh\\anaconda3\\lib\\site-packages (from python-docx) (4.9.1)\n",
      "Building wheels for collected packages: python-docx\n",
      "  Building wheel for python-docx (setup.py): started\n",
      "  Building wheel for python-docx (setup.py): finished with status 'done'\n",
      "  Created wheel for python-docx: filename=python_docx-0.8.11-py3-none-any.whl size=184489 sha256=d2c4fb948da522c82aeaf6df0e13fcb27b73b422a6da3cbd6e77448b44bd2a7a\n",
      "  Stored in directory: c:\\users\\rishabh\\appdata\\local\\pip\\cache\\wheels\\83\\8b\\7c\\09ae60c42c7ba4ed2dddaf2b8b9186cb105255856d6ed3dba5\n",
      "Successfully built python-docx\n",
      "Installing collected packages: python-docx\n",
      "Successfully installed python-docx-0.8.11\n"
     ]
    }
   ],
   "source": [
    "pip install python-docx"
   ]
  },
  {
   "cell_type": "code",
   "execution_count": 2,
   "id": "a652f479",
   "metadata": {},
   "outputs": [
    {
     "data": {
      "text/plain": [
       "[<docx.text.paragraph.Paragraph at 0xbeec2303d0>,\n",
       " <docx.text.paragraph.Paragraph at 0xbeec230520>,\n",
       " <docx.text.paragraph.Paragraph at 0xbeec230430>,\n",
       " <docx.text.paragraph.Paragraph at 0xbeec2305e0>,\n",
       " <docx.text.paragraph.Paragraph at 0xbeec230490>,\n",
       " <docx.text.paragraph.Paragraph at 0xbeec230670>,\n",
       " <docx.text.paragraph.Paragraph at 0xbeec2306d0>,\n",
       " <docx.text.paragraph.Paragraph at 0xbeec230730>,\n",
       " <docx.text.paragraph.Paragraph at 0xbeec230790>,\n",
       " <docx.text.paragraph.Paragraph at 0xbeec230940>,\n",
       " <docx.text.paragraph.Paragraph at 0xbeec230820>,\n",
       " <docx.text.paragraph.Paragraph at 0xbeec230a00>,\n",
       " <docx.text.paragraph.Paragraph at 0xbeec2308e0>,\n",
       " <docx.text.paragraph.Paragraph at 0xbeec230ac0>,\n",
       " <docx.text.paragraph.Paragraph at 0xbeec2309a0>,\n",
       " <docx.text.paragraph.Paragraph at 0xbeec230b80>,\n",
       " <docx.text.paragraph.Paragraph at 0xbeec230a60>,\n",
       " <docx.text.paragraph.Paragraph at 0xbeec230c70>,\n",
       " <docx.text.paragraph.Paragraph at 0xbeec230b20>,\n",
       " <docx.text.paragraph.Paragraph at 0xbeec230d00>,\n",
       " <docx.text.paragraph.Paragraph at 0xbeec230be0>,\n",
       " <docx.text.paragraph.Paragraph at 0xbeec230dc0>,\n",
       " <docx.text.paragraph.Paragraph at 0xbeec230ca0>]"
      ]
     },
     "execution_count": 2,
     "metadata": {},
     "output_type": "execute_result"
    }
   ],
   "source": [
    "from docx import Document\n",
    "\n",
    "doc= Document(\"turbo charger design.docx\")\n",
    "doc.paragraphs"
   ]
  },
  {
   "cell_type": "markdown",
   "id": "11099a59",
   "metadata": {},
   "source": [
    "###### ------------------------------------------------------------------------------------------------------------------------------------------------------------------------------------------------------------------"
   ]
  },
  {
   "cell_type": "markdown",
   "id": "e1938219",
   "metadata": {},
   "source": [
    "## Q8. What type of object has bold, underline, italic, strike, and outline variables?"
   ]
  },
  {
   "cell_type": "markdown",
   "id": "4bc42871",
   "metadata": {},
   "source": [
    "#### Ans-"
   ]
  },
  {
   "cell_type": "markdown",
   "id": "49c39b63",
   "metadata": {},
   "source": [
    "Run object contains all the styling information of a text. Every new style requires new run object."
   ]
  },
  {
   "cell_type": "markdown",
   "id": "a141f2ec",
   "metadata": {},
   "source": [
    "###### ------------------------------------------------------------------------------------------------------------------------------------------------------------------------------------------------------------------"
   ]
  },
  {
   "cell_type": "markdown",
   "id": "bb57c932",
   "metadata": {},
   "source": [
    "## Q9. What is the difference between False, True, and None for the bold variable?"
   ]
  },
  {
   "cell_type": "markdown",
   "id": "1d32db00",
   "metadata": {},
   "source": [
    "#### Ans-"
   ]
  },
  {
   "cell_type": "markdown",
   "id": "35814fee",
   "metadata": {},
   "source": [
    "bold = True, Style bold is enabled\n",
    "\n",
    "bold = False, Style Bold is not enabled.\n",
    "\n",
    "bold = None, Default Style is enabled."
   ]
  },
  {
   "cell_type": "markdown",
   "id": "8ed90a23",
   "metadata": {},
   "source": [
    "###### ------------------------------------------------------------------------------------------------------------------------------------------------------------------------------------------------------------------"
   ]
  },
  {
   "cell_type": "markdown",
   "id": "6ba6148b",
   "metadata": {},
   "source": [
    "## Q10. How do you create a Document object for a new Word document?"
   ]
  },
  {
   "cell_type": "markdown",
   "id": "d178eb8c",
   "metadata": {},
   "source": [
    "#### Ans-"
   ]
  },
  {
   "cell_type": "code",
   "execution_count": 14,
   "id": "fda4f0a2",
   "metadata": {},
   "outputs": [],
   "source": [
    "from docx import Document\n",
    "\n",
    "document = Document()\n",
    "document.add_paragraph(\"adding paragraph\")\n",
    "document.save('sampledoc.docx')"
   ]
  },
  {
   "cell_type": "markdown",
   "id": "589d702f",
   "metadata": {},
   "source": [
    "###### ------------------------------------------------------------------------------------------------------------------------------------------------------------------------------------------------------------------"
   ]
  },
  {
   "cell_type": "markdown",
   "id": "1ce1e684",
   "metadata": {},
   "source": [
    "## Q11. How do you add a paragraph with the text &#39;Hello, there!&#39; to a Document object stored in a variable named doc?"
   ]
  },
  {
   "cell_type": "markdown",
   "id": "46f723e3",
   "metadata": {},
   "source": [
    "#### Ans-"
   ]
  },
  {
   "cell_type": "code",
   "execution_count": 9,
   "id": "8a43d42c",
   "metadata": {},
   "outputs": [],
   "source": [
    "doc=Document()\n",
    "doc.add_paragraph(\"Hello, there!\")\n",
    "document.save('sampledoc1.docx')"
   ]
  },
  {
   "cell_type": "markdown",
   "id": "435f006c",
   "metadata": {},
   "source": [
    "###### ------------------------------------------------------------------------------------------------------------------------------------------------------------------------------------------------------------------"
   ]
  },
  {
   "cell_type": "markdown",
   "id": "a20285bb",
   "metadata": {},
   "source": [
    "## Q12. What integers represent the levels of headings available in Word documents?"
   ]
  },
  {
   "cell_type": "markdown",
   "id": "c13e50f1",
   "metadata": {},
   "source": [
    "#### Ans-"
   ]
  },
  {
   "cell_type": "markdown",
   "id": "f01fa988",
   "metadata": {},
   "source": [
    "Total 5 integers ranging from 0 to 4. 0 for Title, 1 for main heading and 2,3 and 4 are further sub-headings of previous number heading."
   ]
  },
  {
   "cell_type": "markdown",
   "id": "4654afd1",
   "metadata": {},
   "source": [
    "###### ------------------------------------------------------------------------------------------------------------------------------------------------------------------------------------------------------------------"
   ]
  }
 ],
 "metadata": {
  "kernelspec": {
   "display_name": "Python 3 (ipykernel)",
   "language": "python",
   "name": "python3"
  },
  "language_info": {
   "codemirror_mode": {
    "name": "ipython",
    "version": 3
   },
   "file_extension": ".py",
   "mimetype": "text/x-python",
   "name": "python",
   "nbconvert_exporter": "python",
   "pygments_lexer": "ipython3",
   "version": "3.9.13"
  }
 },
 "nbformat": 4,
 "nbformat_minor": 5
}
