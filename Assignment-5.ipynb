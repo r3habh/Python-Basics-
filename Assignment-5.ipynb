{
 "cells": [
  {
   "cell_type": "markdown",
   "id": "c5c5cca7",
   "metadata": {},
   "source": [
    "# Python-Basics"
   ]
  },
  {
   "cell_type": "markdown",
   "id": "b93edc4c",
   "metadata": {},
   "source": [
    "## Assignment -5"
   ]
  },
  {
   "cell_type": "markdown",
   "id": "3f19bb01",
   "metadata": {},
   "source": [
    "### "
   ]
  },
  {
   "cell_type": "markdown",
   "id": "8784e957",
   "metadata": {},
   "source": [
    "## Q1. What does an empty dictionary&#39;s code look like?"
   ]
  },
  {
   "cell_type": "markdown",
   "id": "825e8e64",
   "metadata": {},
   "source": [
    "#### Ans-"
   ]
  },
  {
   "cell_type": "code",
   "execution_count": 1,
   "id": "db85a2a7",
   "metadata": {},
   "outputs": [
    {
     "data": {
      "text/plain": [
       "dict"
      ]
     },
     "execution_count": 1,
     "metadata": {},
     "output_type": "execute_result"
    }
   ],
   "source": [
    "dictionary={}\n",
    "type(dictionary)"
   ]
  },
  {
   "cell_type": "markdown",
   "id": "e4fad5c8",
   "metadata": {},
   "source": [
    "###### ------------------------------------------------------------------------------------------------------------------------------------------------------------------------------------------------------------------"
   ]
  },
  {
   "cell_type": "markdown",
   "id": "e23e58e1",
   "metadata": {},
   "source": [
    "## Q2. What is the value of a dictionary value with the key &#39;foo&#39; and the value 42?"
   ]
  },
  {
   "cell_type": "markdown",
   "id": "f8716360",
   "metadata": {},
   "source": [
    "#### Ans-"
   ]
  },
  {
   "cell_type": "code",
   "execution_count": 2,
   "id": "dd0bac13",
   "metadata": {},
   "outputs": [
    {
     "data": {
      "text/plain": [
       "42"
      ]
     },
     "execution_count": 2,
     "metadata": {},
     "output_type": "execute_result"
    }
   ],
   "source": [
    "di={\"foo\":42}\n",
    "di[\"foo\"]"
   ]
  },
  {
   "cell_type": "markdown",
   "id": "7db84179",
   "metadata": {},
   "source": [
    "###### ------------------------------------------------------------------------------------------------------------------------------------------------------------------------------------------------------------------"
   ]
  },
  {
   "cell_type": "markdown",
   "id": "520104da",
   "metadata": {},
   "source": [
    "## Q3. What is the most significant distinction between a dictionary and a list?"
   ]
  },
  {
   "cell_type": "markdown",
   "id": "4b769ab7",
   "metadata": {},
   "source": [
    "#### Ans-"
   ]
  },
  {
   "cell_type": "markdown",
   "id": "5affc453",
   "metadata": {},
   "source": [
    "Dictionary- It is denoted by { }. it is unordered set of keys and values.\n"
   ]
  },
  {
   "cell_type": "code",
   "execution_count": 5,
   "id": "a62deb46",
   "metadata": {},
   "outputs": [],
   "source": [
    "di={\"a\":[1,2,3],\"b\":24}"
   ]
  },
  {
   "cell_type": "markdown",
   "id": "009c14e7",
   "metadata": {},
   "source": [
    "List- It is denoted by [ ]. It is ordered set of values."
   ]
  },
  {
   "cell_type": "code",
   "execution_count": 6,
   "id": "65365c40",
   "metadata": {},
   "outputs": [],
   "source": [
    "li=[1,2,'abc']"
   ]
  },
  {
   "cell_type": "markdown",
   "id": "ccc2a551",
   "metadata": {},
   "source": [
    "###### ------------------------------------------------------------------------------------------------------------------------------------------------------------------------------------------------------------------"
   ]
  },
  {
   "cell_type": "markdown",
   "id": "7bb4b18f",
   "metadata": {},
   "source": [
    "## Q4. What happens if you try to access spam[&#39;foo&#39;] if spam is {&#39;bar&#39;: 100}?"
   ]
  },
  {
   "cell_type": "markdown",
   "id": "06ae93d2",
   "metadata": {},
   "source": [
    "#### Ans-"
   ]
  },
  {
   "cell_type": "code",
   "execution_count": 8,
   "id": "d0217e77",
   "metadata": {},
   "outputs": [
    {
     "ename": "KeyError",
     "evalue": "'foo'",
     "output_type": "error",
     "traceback": [
      "\u001b[1;31m---------------------------------------------------------------------------\u001b[0m",
      "\u001b[1;31mKeyError\u001b[0m                                  Traceback (most recent call last)",
      "\u001b[1;32m~\\AppData\\Local\\Temp\\ipykernel_3836\\2977207769.py\u001b[0m in \u001b[0;36m<module>\u001b[1;34m\u001b[0m\n\u001b[0;32m      1\u001b[0m \u001b[0mspam\u001b[0m\u001b[1;33m=\u001b[0m\u001b[1;33m{\u001b[0m\u001b[1;34m'bar'\u001b[0m\u001b[1;33m:\u001b[0m \u001b[1;36m100\u001b[0m\u001b[1;33m}\u001b[0m\u001b[1;33m\u001b[0m\u001b[1;33m\u001b[0m\u001b[0m\n\u001b[1;32m----> 2\u001b[1;33m \u001b[0mspam\u001b[0m\u001b[1;33m[\u001b[0m\u001b[1;34m'foo'\u001b[0m\u001b[1;33m]\u001b[0m\u001b[1;33m\u001b[0m\u001b[1;33m\u001b[0m\u001b[0m\n\u001b[0m",
      "\u001b[1;31mKeyError\u001b[0m: 'foo'"
     ]
    }
   ],
   "source": [
    "spam={'bar': 100}\n",
    "spam['foo']"
   ]
  },
  {
   "cell_type": "markdown",
   "id": "2548281a",
   "metadata": {},
   "source": [
    "It gives key error as there is no key named foo."
   ]
  },
  {
   "cell_type": "markdown",
   "id": "78abcd6c",
   "metadata": {},
   "source": [
    "###### ------------------------------------------------------------------------------------------------------------------------------------------------------------------------------------------------------------------"
   ]
  },
  {
   "cell_type": "markdown",
   "id": "44485262",
   "metadata": {},
   "source": [
    "## Q5. If a dictionary is stored in spam, what is the difference between the expressions &#39;cat&#39; in spam and &#39;cat&#39; in spam.keys()?"
   ]
  },
  {
   "cell_type": "markdown",
   "id": "9b5b453f",
   "metadata": {},
   "source": [
    "#### Ans-"
   ]
  },
  {
   "cell_type": "code",
   "execution_count": 12,
   "id": "fd6ef160",
   "metadata": {},
   "outputs": [
    {
     "name": "stdout",
     "output_type": "stream",
     "text": [
      "True\n",
      "True\n"
     ]
    }
   ],
   "source": [
    "spam={\"cat\":54}\n",
    "print(\"cat\" in spam)\n",
    "print(\"cat\" in spam.keys())"
   ]
  },
  {
   "cell_type": "markdown",
   "id": "b569c14b",
   "metadata": {},
   "source": [
    "There is no difference as both checks whether there is a key named cat or not."
   ]
  },
  {
   "cell_type": "markdown",
   "id": "0e2c01ff",
   "metadata": {},
   "source": [
    "###### ------------------------------------------------------------------------------------------------------------------------------------------------------------------------------------------------------------------"
   ]
  },
  {
   "cell_type": "markdown",
   "id": "cfb144e0",
   "metadata": {},
   "source": [
    "## Q6. If a dictionary is stored in spam, what is the difference between the expressions &#39;cat&#39; in spam and&#39;cat&#39; in spam.values()?"
   ]
  },
  {
   "cell_type": "markdown",
   "id": "014d0e41",
   "metadata": {},
   "source": [
    "#### Ans-"
   ]
  },
  {
   "cell_type": "code",
   "execution_count": 13,
   "id": "a1d197a0",
   "metadata": {},
   "outputs": [
    {
     "name": "stdout",
     "output_type": "stream",
     "text": [
      "True\n",
      "False\n"
     ]
    }
   ],
   "source": [
    "spam={\"cat\":54}\n",
    "print(\"cat\" in spam)\n",
    "print(\"cat\" in spam.values())"
   ]
  },
  {
   "cell_type": "markdown",
   "id": "6953b728",
   "metadata": {},
   "source": [
    "In the first print command, it is checked whether cat is a key or not."
   ]
  },
  {
   "cell_type": "markdown",
   "id": "ff8eece9",
   "metadata": {},
   "source": [
    "Whereas, in second print command it checks whether cat is in values or not. Which is not, so it gives False."
   ]
  },
  {
   "cell_type": "markdown",
   "id": "2adfe547",
   "metadata": {},
   "source": [
    "###### ------------------------------------------------------------------------------------------------------------------------------------------------------------------------------------------------------------------"
   ]
  },
  {
   "cell_type": "markdown",
   "id": "97100d14",
   "metadata": {},
   "source": [
    "## Q7. What is a shortcut for the following code?"
   ]
  },
  {
   "cell_type": "code",
   "execution_count": null,
   "id": "f1809840",
   "metadata": {},
   "outputs": [],
   "source": [
    "if 'color' not in spam: \n",
    "    spam['color'] = 'black'"
   ]
  },
  {
   "cell_type": "markdown",
   "id": "76621a3c",
   "metadata": {},
   "source": [
    "#### Ans-"
   ]
  },
  {
   "cell_type": "code",
   "execution_count": 14,
   "id": "bff15249",
   "metadata": {},
   "outputs": [
    {
     "data": {
      "text/plain": [
       "'black'"
      ]
     },
     "execution_count": 14,
     "metadata": {},
     "output_type": "execute_result"
    }
   ],
   "source": [
    "spam.setdefault('color', 'black')"
   ]
  },
  {
   "cell_type": "code",
   "execution_count": 15,
   "id": "a9d3aa4e",
   "metadata": {},
   "outputs": [
    {
     "data": {
      "text/plain": [
       "{'cat': 54, 'color': 'black'}"
      ]
     },
     "execution_count": 15,
     "metadata": {},
     "output_type": "execute_result"
    }
   ],
   "source": [
    "spam"
   ]
  },
  {
   "cell_type": "markdown",
   "id": "f0b577db",
   "metadata": {},
   "source": [
    "###### ------------------------------------------------------------------------------------------------------------------------------------------------------------------------------------------------------------------"
   ]
  },
  {
   "cell_type": "markdown",
   "id": "ffa2a282",
   "metadata": {},
   "source": [
    "## Q8. How do you &quot;pretty print&quot; dictionary values using which module and function?"
   ]
  },
  {
   "cell_type": "markdown",
   "id": "17588669",
   "metadata": {},
   "source": [
    "#### Ans-"
   ]
  },
  {
   "cell_type": "code",
   "execution_count": 19,
   "id": "4b5a683c",
   "metadata": {},
   "outputs": [],
   "source": [
    "spam['dog']='pug'\n",
    "spam['bird']='eagle'"
   ]
  },
  {
   "cell_type": "code",
   "execution_count": 20,
   "id": "8dcb60c1",
   "metadata": {},
   "outputs": [
    {
     "data": {
      "text/plain": [
       "{'cat': 54, 'color': 'black', 'dog': 'pug', 'bird': 'eagle'}"
      ]
     },
     "execution_count": 20,
     "metadata": {},
     "output_type": "execute_result"
    }
   ],
   "source": [
    "spam"
   ]
  },
  {
   "cell_type": "code",
   "execution_count": 21,
   "id": "0028c120",
   "metadata": {},
   "outputs": [
    {
     "name": "stdout",
     "output_type": "stream",
     "text": [
      "{'bird': 'eagle', 'cat': 54, 'color': 'black', 'dog': 'pug'}\n"
     ]
    }
   ],
   "source": [
    "import pprint\n",
    "pprint.pprint(spam)"
   ]
  },
  {
   "cell_type": "markdown",
   "id": "14d45c3c",
   "metadata": {},
   "source": [
    "###### ------------------------------------------------------------------------------------------------------------------------------------------------------------------------------------------------------------------"
   ]
  }
 ],
 "metadata": {
  "kernelspec": {
   "display_name": "Python 3 (ipykernel)",
   "language": "python",
   "name": "python3"
  },
  "language_info": {
   "codemirror_mode": {
    "name": "ipython",
    "version": 3
   },
   "file_extension": ".py",
   "mimetype": "text/x-python",
   "name": "python",
   "nbconvert_exporter": "python",
   "pygments_lexer": "ipython3",
   "version": "3.9.13"
  }
 },
 "nbformat": 4,
 "nbformat_minor": 5
}
