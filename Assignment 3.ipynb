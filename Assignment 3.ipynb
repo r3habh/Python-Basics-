{
 "cells": [
  {
   "cell_type": "code",
   "execution_count": null,
   "id": "ba6e8763",
   "metadata": {},
   "outputs": [],
   "source": []
  },
  {
   "cell_type": "markdown",
   "id": "2d079fa2",
   "metadata": {},
   "source": [
    "## Q1. Why are functions advantageous to have in your programs?"
   ]
  },
  {
   "cell_type": "markdown",
   "id": "729ce82f",
   "metadata": {},
   "source": [
    "With the help of functions one does not have to write a code again for similar purposes. It makes our code more representable, increases ease to do any changes."
   ]
  },
  {
   "cell_type": "markdown",
   "id": "fc785104",
   "metadata": {},
   "source": [
    "## "
   ]
  },
  {
   "cell_type": "markdown",
   "id": "ead33aee",
   "metadata": {},
   "source": [
    "## Q2. When does the code in a function run: when it's specified or when it's called?"
   ]
  },
  {
   "cell_type": "markdown",
   "id": "7265ddd8",
   "metadata": {},
   "source": [
    "Function runs after it has been called, it gives the necessary inputs for the operations desired in a function."
   ]
  },
  {
   "cell_type": "markdown",
   "id": "b64ad44b",
   "metadata": {},
   "source": [
    "## "
   ]
  },
  {
   "cell_type": "markdown",
   "id": "db6f163d",
   "metadata": {},
   "source": [
    "## Q3. What statement creates a function?"
   ]
  },
  {
   "cell_type": "markdown",
   "id": "f0a36dd9",
   "metadata": {},
   "source": [
    "def statement"
   ]
  },
  {
   "cell_type": "code",
   "execution_count": null,
   "id": "39d975f1",
   "metadata": {},
   "outputs": [],
   "source": [
    "def Function_name(inputs):\n",
    "    operations(using inputs)\n",
    "    operations_result\n",
    "    return operations_result"
   ]
  },
  {
   "cell_type": "markdown",
   "id": "04471519",
   "metadata": {},
   "source": [
    "## "
   ]
  },
  {
   "cell_type": "markdown",
   "id": "ceb254a9",
   "metadata": {},
   "source": [
    "## Q4. What is the difference between a function and a function call?"
   ]
  },
  {
   "cell_type": "markdown",
   "id": "52f12840",
   "metadata": {},
   "source": [
    "A function has to be defined (like in solution 3),before it can be called. Calling provides the function with the inputs tailored for the particular outputs according to the requirements."
   ]
  },
  {
   "cell_type": "markdown",
   "id": "277bf4a3",
   "metadata": {},
   "source": [
    "## "
   ]
  },
  {
   "cell_type": "markdown",
   "id": "8e549cf6",
   "metadata": {},
   "source": [
    "## Q5. How many global scopes are there in a Python program? How many local scopes?"
   ]
  },
  {
   "cell_type": "markdown",
   "id": "859c48ca",
   "metadata": {},
   "source": [
    "There's only one global Python scope per program. This scope remains in existence until the program terminates , and a local scope is created whenever a function is called. "
   ]
  },
  {
   "cell_type": "markdown",
   "id": "68b85474",
   "metadata": {},
   "source": [
    "## "
   ]
  },
  {
   "cell_type": "markdown",
   "id": "1b79171a",
   "metadata": {},
   "source": [
    "## Q6. What happens to variables in a local scope when the function call returns?"
   ]
  },
  {
   "cell_type": "markdown",
   "id": "fd58be75",
   "metadata": {},
   "source": [
    "When the function call returns, local scope is deleted."
   ]
  },
  {
   "cell_type": "markdown",
   "id": "9ae73ca9",
   "metadata": {},
   "source": [
    "## "
   ]
  },
  {
   "cell_type": "markdown",
   "id": "2c7a2d28",
   "metadata": {},
   "source": [
    "## Q7. What is the concept of a return value? Is it possible to have a return value in an expression?"
   ]
  },
  {
   "cell_type": "markdown",
   "id": "d3920693",
   "metadata": {},
   "source": [
    "Return value is a value, variable or expression which a function gives as an output after an operation."
   ]
  },
  {
   "cell_type": "markdown",
   "id": "997a37b7",
   "metadata": {},
   "source": [
    "Yes, return value can be an expression. It has been shown with the help of an example below-"
   ]
  },
  {
   "cell_type": "code",
   "execution_count": 2,
   "id": "e7fdd905",
   "metadata": {},
   "outputs": [
    {
     "data": {
      "text/plain": [
       "13"
      ]
     },
     "execution_count": 2,
     "metadata": {},
     "output_type": "execute_result"
    }
   ],
   "source": [
    "def func(x,y):\n",
    "    return 2*x+3*y\n",
    "\n",
    "func(2,3)"
   ]
  },
  {
   "cell_type": "markdown",
   "id": "ee9b8cf2",
   "metadata": {},
   "source": [
    "## "
   ]
  },
  {
   "cell_type": "markdown",
   "id": "d276cb2c",
   "metadata": {},
   "source": [
    "## Q8. If a function does not have a return statement, what is the return value of a call to that function?"
   ]
  },
  {
   "cell_type": "markdown",
   "id": "f2dc57b1",
   "metadata": {},
   "source": [
    "NoneType will be given by the function as an output if it does not give anything as a return value. And, it cannot be used for further operations."
   ]
  },
  {
   "cell_type": "markdown",
   "id": "4423ff22",
   "metadata": {},
   "source": [
    "In the following example, f(x) function does not give anything as a result. So, g(y) function has no input to do operations. That's why we are getting an error."
   ]
  },
  {
   "cell_type": "code",
   "execution_count": 6,
   "id": "8241d2c8",
   "metadata": {},
   "outputs": [
    {
     "ename": "TypeError",
     "evalue": "unsupported operand type(s) for ** or pow(): 'NoneType' and 'int'",
     "output_type": "error",
     "traceback": [
      "\u001b[1;31m---------------------------------------------------------------------------\u001b[0m",
      "\u001b[1;31mTypeError\u001b[0m                                 Traceback (most recent call last)",
      "\u001b[1;32m~\\AppData\\Local\\Temp\\ipykernel_9192\\4238369647.py\u001b[0m in \u001b[0;36m<module>\u001b[1;34m\u001b[0m\n\u001b[0;32m      7\u001b[0m     \u001b[1;32mreturn\u001b[0m \u001b[0my\u001b[0m\u001b[1;33m\u001b[0m\u001b[1;33m\u001b[0m\u001b[0m\n\u001b[0;32m      8\u001b[0m \u001b[1;33m\u001b[0m\u001b[0m\n\u001b[1;32m----> 9\u001b[1;33m \u001b[0mg\u001b[0m\u001b[1;33m(\u001b[0m\u001b[0mf\u001b[0m\u001b[1;33m(\u001b[0m\u001b[1;36m5\u001b[0m\u001b[1;33m)\u001b[0m\u001b[1;33m)\u001b[0m\u001b[1;33m\u001b[0m\u001b[1;33m\u001b[0m\u001b[0m\n\u001b[0m\u001b[0;32m     10\u001b[0m \u001b[1;33m\u001b[0m\u001b[0m\n",
      "\u001b[1;32m~\\AppData\\Local\\Temp\\ipykernel_9192\\4238369647.py\u001b[0m in \u001b[0;36mg\u001b[1;34m(y)\u001b[0m\n\u001b[0;32m      4\u001b[0m \u001b[1;33m\u001b[0m\u001b[0m\n\u001b[0;32m      5\u001b[0m \u001b[1;32mdef\u001b[0m \u001b[0mg\u001b[0m\u001b[1;33m(\u001b[0m\u001b[0my\u001b[0m\u001b[1;33m)\u001b[0m\u001b[1;33m:\u001b[0m\u001b[1;33m\u001b[0m\u001b[1;33m\u001b[0m\u001b[0m\n\u001b[1;32m----> 6\u001b[1;33m     \u001b[0my\u001b[0m\u001b[1;33m=\u001b[0m\u001b[0my\u001b[0m\u001b[1;33m**\u001b[0m\u001b[1;36m2\u001b[0m\u001b[1;33m\u001b[0m\u001b[1;33m\u001b[0m\u001b[0m\n\u001b[0m\u001b[0;32m      7\u001b[0m     \u001b[1;32mreturn\u001b[0m \u001b[0my\u001b[0m\u001b[1;33m\u001b[0m\u001b[1;33m\u001b[0m\u001b[0m\n\u001b[0;32m      8\u001b[0m \u001b[1;33m\u001b[0m\u001b[0m\n",
      "\u001b[1;31mTypeError\u001b[0m: unsupported operand type(s) for ** or pow(): 'NoneType' and 'int'"
     ]
    }
   ],
   "source": [
    "def f(x):\n",
    "    x=x*5\n",
    "    return\n",
    "\n",
    "def g(y):\n",
    "    y=y**2\n",
    "    return y\n",
    "\n",
    "g(f(5))\n",
    "    "
   ]
  },
  {
   "cell_type": "markdown",
   "id": "e9745968",
   "metadata": {},
   "source": [
    "## "
   ]
  },
  {
   "cell_type": "markdown",
   "id": "3fee981b",
   "metadata": {},
   "source": [
    "## Q9. How do you make a function variable refer to the global variable?"
   ]
  },
  {
   "cell_type": "markdown",
   "id": "f1af7d96",
   "metadata": {},
   "source": [
    "Keyword global is used to indicate a variable outside the function."
   ]
  },
  {
   "cell_type": "code",
   "execution_count": 10,
   "id": "5d197d8d",
   "metadata": {},
   "outputs": [
    {
     "name": "stdout",
     "output_type": "stream",
     "text": [
      "1\n",
      "5\n"
     ]
    }
   ],
   "source": [
    "a=1\n",
    "\n",
    "def func():\n",
    "    global a\n",
    "    a=a*5\n",
    "    return a\n",
    "\n",
    "print(a)\n",
    "func()\n",
    "print(a)"
   ]
  },
  {
   "cell_type": "markdown",
   "id": "4071d621",
   "metadata": {},
   "source": [
    "## "
   ]
  },
  {
   "cell_type": "markdown",
   "id": "0ade8bf8",
   "metadata": {},
   "source": [
    "## Q10. What is the data type of None?"
   ]
  },
  {
   "cell_type": "markdown",
   "id": "36ad77b4",
   "metadata": {},
   "source": [
    "NoneType"
   ]
  },
  {
   "cell_type": "markdown",
   "id": "cccd563f",
   "metadata": {},
   "source": [
    "## "
   ]
  },
  {
   "cell_type": "markdown",
   "id": "7d8179a3",
   "metadata": {},
   "source": [
    "## Q11. What does the sentence import areallyourpetsnamederic do?"
   ]
  },
  {
   "cell_type": "markdown",
   "id": "0d8c7b24",
   "metadata": {},
   "source": [
    "This statement imports a module named areallyourpetsnamederic."
   ]
  },
  {
   "cell_type": "markdown",
   "id": "39450f38",
   "metadata": {},
   "source": [
    "## "
   ]
  },
  {
   "cell_type": "markdown",
   "id": "bb4b93a8",
   "metadata": {},
   "source": [
    "## Q12. If you had a bacon() feature in a spam module, what would you call it after importing spam?"
   ]
  },
  {
   "cell_type": "markdown",
   "id": "61a85212",
   "metadata": {},
   "source": [
    "import spam\n",
    "\n",
    "spam.bacon()"
   ]
  },
  {
   "cell_type": "markdown",
   "id": "c389d2fd",
   "metadata": {},
   "source": [
    "## "
   ]
  },
  {
   "cell_type": "markdown",
   "id": "549989cf",
   "metadata": {},
   "source": [
    "## Q13. What can you do to save a programme from crashing if it encounters an error?"
   ]
  },
  {
   "cell_type": "markdown",
   "id": "a1c510f8",
   "metadata": {},
   "source": [
    "Try and except statements can be used."
   ]
  },
  {
   "cell_type": "code",
   "execution_count": 12,
   "id": "86761ecb",
   "metadata": {},
   "outputs": [
    {
     "name": "stdout",
     "output_type": "stream",
     "text": [
      "Enter an integer: fggvg\n",
      "Error\n"
     ]
    }
   ],
   "source": [
    "try:\n",
    "    l=int(input('Enter an integer: '))\n",
    "    \n",
    "except:\n",
    "    print(\"Error\")"
   ]
  },
  {
   "cell_type": "markdown",
   "id": "425328a0",
   "metadata": {},
   "source": [
    "As, alphabets cannot be converted to integers. That's why it will give error."
   ]
  },
  {
   "cell_type": "markdown",
   "id": "e5f5d517",
   "metadata": {},
   "source": [
    "## "
   ]
  },
  {
   "cell_type": "markdown",
   "id": "bdaae5a2",
   "metadata": {},
   "source": [
    "## Q14. What is the purpose of the try clause? What is the purpose of the except clause?"
   ]
  },
  {
   "cell_type": "markdown",
   "id": "e84e1bcb",
   "metadata": {},
   "source": [
    "Try clause carry the code which we want to test for errors. This code will always run. But, if any error encountered in this code. Then the code in except clause will run."
   ]
  },
  {
   "cell_type": "markdown",
   "id": "9d1d15f1",
   "metadata": {},
   "source": [
    "This technique is used to provide redundancy to the code for critical uses like flight control."
   ]
  }
 ],
 "metadata": {
  "kernelspec": {
   "display_name": "Python 3 (ipykernel)",
   "language": "python",
   "name": "python3"
  },
  "language_info": {
   "codemirror_mode": {
    "name": "ipython",
    "version": 3
   },
   "file_extension": ".py",
   "mimetype": "text/x-python",
   "name": "python",
   "nbconvert_exporter": "python",
   "pygments_lexer": "ipython3",
   "version": "3.9.13"
  }
 },
 "nbformat": 4,
 "nbformat_minor": 5
}
