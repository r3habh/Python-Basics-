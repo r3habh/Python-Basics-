{
 "cells": [
  {
   "cell_type": "markdown",
   "id": "fbc70025",
   "metadata": {},
   "source": [
    "# Python Basics"
   ]
  },
  {
   "cell_type": "markdown",
   "id": "2482ae9b",
   "metadata": {},
   "source": [
    "## Assignment 23"
   ]
  },
  {
   "cell_type": "markdown",
   "id": "26d9b180",
   "metadata": {},
   "source": [
    "# "
   ]
  },
  {
   "cell_type": "markdown",
   "id": "d4076c6f",
   "metadata": {},
   "source": [
    "## Q1. What is the result of the code, and why?"
   ]
  },
  {
   "cell_type": "markdown",
   "id": "7d418075",
   "metadata": {},
   "source": [
    "def func(a, b=6, c=8):\n",
    "    \n",
    "    print(a, b, c)\n",
    "    \n",
    "    \n",
    "func(1, 2)"
   ]
  },
  {
   "cell_type": "markdown",
   "id": "f23ac6d9",
   "metadata": {},
   "source": [
    "#### Ans-"
   ]
  },
  {
   "cell_type": "markdown",
   "id": "a253e90f",
   "metadata": {},
   "source": [
    "The result would be:\n",
    "\n",
    "1,2,8\n",
    "\n",
    "As, in arguments value of a and b are given. But as value of c is not given in arguments, it will take the default value from parameters."
   ]
  },
  {
   "cell_type": "code",
   "execution_count": 1,
   "id": "d416c94b",
   "metadata": {},
   "outputs": [
    {
     "name": "stdout",
     "output_type": "stream",
     "text": [
      "1 2 8\n"
     ]
    }
   ],
   "source": [
    "# Validation\n",
    "def func(a, b=6, c=8):    \n",
    "    print(a, b, c)\n",
    "    \n",
    "func(1, 2)"
   ]
  },
  {
   "cell_type": "markdown",
   "id": "87bea7a7",
   "metadata": {},
   "source": [
    "###### ------------------------------------------------------------------------------------------------------------------------------------------------------------------------------------------------------------------"
   ]
  },
  {
   "cell_type": "markdown",
   "id": "302f60f7",
   "metadata": {},
   "source": [
    "## Q2. What is the result of this code, and why?"
   ]
  },
  {
   "cell_type": "markdown",
   "id": "8ab3df9f",
   "metadata": {},
   "source": [
    "def func(a, b, c=5):\n",
    "\n",
    "    print(a, b, c)\n",
    "    \n",
    "func(1, c=3, b=2)"
   ]
  },
  {
   "cell_type": "markdown",
   "id": "37740287",
   "metadata": {},
   "source": [
    "#### Ans-"
   ]
  },
  {
   "cell_type": "markdown",
   "id": "a4af71e2",
   "metadata": {},
   "source": [
    "The result would be:\n",
    "\n",
    "1,2,3\n",
    "\n",
    "As, the values are given as arguments to func(). It's just that the order of arguments is changed, but they are assigned to particular variables. So, they will be processed in order. And, the value of parameter is updated by argument value."
   ]
  },
  {
   "cell_type": "code",
   "execution_count": 2,
   "id": "beab6e28",
   "metadata": {},
   "outputs": [
    {
     "name": "stdout",
     "output_type": "stream",
     "text": [
      "1 2 3\n"
     ]
    }
   ],
   "source": [
    "# Validation\n",
    "\n",
    "def func(a, b, c=5):\n",
    "    print(a, b, c)\n",
    "func(1, c=3, b=2)"
   ]
  },
  {
   "cell_type": "markdown",
   "id": "c5afc5c0",
   "metadata": {},
   "source": [
    "###### ------------------------------------------------------------------------------------------------------------------------------------------------------------------------------------------------------------------"
   ]
  },
  {
   "cell_type": "markdown",
   "id": "e2dd0f8d",
   "metadata": {},
   "source": [
    "## Q3. How about this code: what is its result, and why?"
   ]
  },
  {
   "cell_type": "markdown",
   "id": "70fde696",
   "metadata": {},
   "source": [
    "def func(a, *pargs):\n",
    "\n",
    "    print(a, pargs)\n",
    "    \n",
    "func(1, 2, 3)"
   ]
  },
  {
   "cell_type": "markdown",
   "id": "b1ec7fda",
   "metadata": {},
   "source": [
    "#### Ans-"
   ]
  },
  {
   "cell_type": "markdown",
   "id": "bde03b3b",
   "metadata": {},
   "source": [
    "The output will be:\n",
    "\n",
    "1,(2,3)\n",
    "\n",
    "As,value of first argument will be assigned to a and (2,3) to *pargs.'*Pargs' represents any number of arguments. "
   ]
  },
  {
   "cell_type": "code",
   "execution_count": 3,
   "id": "a68a8eef",
   "metadata": {},
   "outputs": [
    {
     "name": "stdout",
     "output_type": "stream",
     "text": [
      "1 (2, 3)\n"
     ]
    }
   ],
   "source": [
    "def func(a, *pargs):\n",
    "    print(a, pargs)\n",
    "    \n",
    "func(1, 2, 3)"
   ]
  },
  {
   "cell_type": "markdown",
   "id": "54de83e5",
   "metadata": {},
   "source": [
    "###### ------------------------------------------------------------------------------------------------------------------------------------------------------------------------------------------------------------------"
   ]
  },
  {
   "cell_type": "markdown",
   "id": "3b7610e7",
   "metadata": {},
   "source": [
    "## Q4. What does this code print, and why?"
   ]
  },
  {
   "cell_type": "markdown",
   "id": "418d42d6",
   "metadata": {},
   "source": [
    "def func(a, **kargs):\n",
    "    \n",
    "    print(a, kargs)\n",
    "    \n",
    "func(a=1, c=3, b=2)"
   ]
  },
  {
   "cell_type": "markdown",
   "id": "df3f24f0",
   "metadata": {},
   "source": [
    "#### Ans-"
   ]
  },
  {
   "cell_type": "markdown",
   "id": "e8b6c1d3",
   "metadata": {},
   "source": [
    "The output will be:\n",
    "\n",
    "1, {'c': 3, 'b': 2}\n",
    "\n",
    "As, the arguments c=3 and b=2 will be considered as keyword arguments,which will convert it into a dictionary with key and value pairs. Keyword arguments are represented with double stars."
   ]
  },
  {
   "cell_type": "code",
   "execution_count": 4,
   "id": "a3bec103",
   "metadata": {},
   "outputs": [
    {
     "name": "stdout",
     "output_type": "stream",
     "text": [
      "1 {'c': 3, 'b': 2}\n"
     ]
    }
   ],
   "source": [
    "def func(a, **kargs):\n",
    "    print(a, kargs)\n",
    "func(a=1, c=3, b=2)"
   ]
  },
  {
   "cell_type": "markdown",
   "id": "606096a9",
   "metadata": {},
   "source": [
    "###### ------------------------------------------------------------------------------------------------------------------------------------------------------------------------------------------------------------------"
   ]
  },
  {
   "cell_type": "markdown",
   "id": "cf028df6",
   "metadata": {},
   "source": [
    "## Q5. What gets printed by this, and explain?"
   ]
  },
  {
   "cell_type": "markdown",
   "id": "6894b4ce",
   "metadata": {},
   "source": [
    "def func(a, b, c=8, d=5): \n",
    "\n",
    "    print(a, b, c, d)\n",
    "    \n",
    "func(1, *(5, 6))"
   ]
  },
  {
   "cell_type": "markdown",
   "id": "75435426",
   "metadata": {},
   "source": [
    "#### Ans-"
   ]
  },
  {
   "cell_type": "markdown",
   "id": "715c2269",
   "metadata": {},
   "source": [
    "The output will be :\n",
    "\n",
    "1,5,6,5\n",
    "\n",
    "As, value of d will be taken from the parameters and values of other parameters are given in arguments."
   ]
  },
  {
   "cell_type": "code",
   "execution_count": 5,
   "id": "cb6e44db",
   "metadata": {
    "scrolled": true
   },
   "outputs": [
    {
     "name": "stdout",
     "output_type": "stream",
     "text": [
      "1 5 6 5\n"
     ]
    }
   ],
   "source": [
    "def func(a, b, c=8, d=5): \n",
    "    print(a, b, c, d)\n",
    "    \n",
    "func(1, *(5, 6))"
   ]
  },
  {
   "cell_type": "markdown",
   "id": "00a6f379",
   "metadata": {},
   "source": [
    "###### ------------------------------------------------------------------------------------------------------------------------------------------------------------------------------------------------------------------"
   ]
  },
  {
   "cell_type": "markdown",
   "id": "5eea30f2",
   "metadata": {},
   "source": [
    "## Q6. what is the result of this, and explain?"
   ]
  },
  {
   "cell_type": "markdown",
   "id": "093b300e",
   "metadata": {},
   "source": [
    "def func(a, b, c):\n",
    "\n",
    "    a = 2; b[0] = 'x'; c['a'] = 'y'\n",
    "    \n",
    "l=1; m=[1]; n={'a':0}\n",
    "    \n",
    "func(l, m, n)\n",
    "\n",
    "l, m, n"
   ]
  },
  {
   "cell_type": "markdown",
   "id": "ca741258",
   "metadata": {},
   "source": [
    "#### Ans-"
   ]
  },
  {
   "cell_type": "markdown",
   "id": "f385bfdd",
   "metadata": {},
   "source": [
    "The output will be:\n",
    "    \n",
    "1, ['x'], {'a': 'y'}\n",
    "\n",
    "As, values are given as list and dictionary will are mutable and are updated by the function and then printed."
   ]
  },
  {
   "cell_type": "code",
   "execution_count": 6,
   "id": "8186999e",
   "metadata": {},
   "outputs": [
    {
     "data": {
      "text/plain": [
       "(1, ['x'], {'a': 'y'})"
      ]
     },
     "execution_count": 6,
     "metadata": {},
     "output_type": "execute_result"
    }
   ],
   "source": [
    "def func(a, b, c):\n",
    "    a = 2; b[0] = 'x'; c['a'] = 'y'\n",
    "    \n",
    "l=1; m=[1]; n={'a':0}\n",
    "    \n",
    "func(l, m, n)\n",
    "\n",
    "l, m, n"
   ]
  },
  {
   "cell_type": "markdown",
   "id": "8ee08aed",
   "metadata": {},
   "source": [
    "###### ------------------------------------------------------------------------------------------------------------------------------------------------------------------------------------------------------------------"
   ]
  }
 ],
 "metadata": {
  "kernelspec": {
   "display_name": "Python 3 (ipykernel)",
   "language": "python",
   "name": "python3"
  },
  "language_info": {
   "codemirror_mode": {
    "name": "ipython",
    "version": 3
   },
   "file_extension": ".py",
   "mimetype": "text/x-python",
   "name": "python",
   "nbconvert_exporter": "python",
   "pygments_lexer": "ipython3",
   "version": "3.9.13"
  }
 },
 "nbformat": 4,
 "nbformat_minor": 5
}
