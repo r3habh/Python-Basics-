{
 "cells": [
  {
   "cell_type": "markdown",
   "id": "6cd4f965",
   "metadata": {},
   "source": [
    "# Python Basics"
   ]
  },
  {
   "cell_type": "markdown",
   "id": "1bbe3afd",
   "metadata": {},
   "source": [
    "## Programming Assignment 2"
   ]
  },
  {
   "cell_type": "markdown",
   "id": "8b71f72e",
   "metadata": {},
   "source": [
    "# "
   ]
  },
  {
   "cell_type": "markdown",
   "id": "19065872",
   "metadata": {},
   "source": [
    "## Q1. Write a Python program to convert kilometers to miles."
   ]
  },
  {
   "cell_type": "markdown",
   "id": "a0629df2",
   "metadata": {},
   "source": [
    "#### Ans-"
   ]
  },
  {
   "cell_type": "code",
   "execution_count": 1,
   "id": "d117ef0f",
   "metadata": {},
   "outputs": [
    {
     "name": "stdout",
     "output_type": "stream",
     "text": [
      "Enter the kilometers: 200\n",
      "200 Kilometers=124.274 Miles\n"
     ]
    }
   ],
   "source": [
    "kilometers=int(input(\"Enter the kilometers: \"))\n",
    "\n",
    "miles=0.621371*kilometers\n",
    "print(f'{kilometers} Kilometers={round(miles,3)} Miles')"
   ]
  },
  {
   "cell_type": "markdown",
   "id": "caa73c3e",
   "metadata": {},
   "source": [
    "###### ------------------------------------------------------------------------------------------------------------------------------------------------------------------------------------------------------------------"
   ]
  },
  {
   "cell_type": "markdown",
   "id": "098a85cc",
   "metadata": {},
   "source": [
    "## Q2. Write a Python program to convert Celsius to Fahrenheit."
   ]
  },
  {
   "cell_type": "markdown",
   "id": "e0ed785e",
   "metadata": {},
   "source": [
    "#### Ans-"
   ]
  },
  {
   "cell_type": "code",
   "execution_count": 2,
   "id": "ac1f58fb",
   "metadata": {},
   "outputs": [
    {
     "name": "stdout",
     "output_type": "stream",
     "text": [
      "Enter the degree Celsius: 33\n",
      "33 degree Celsius= 91.4 Fahrenheit\n"
     ]
    }
   ],
   "source": [
    "Celsius=int(input(\"Enter the degree Celsius: \"))\n",
    "\n",
    "Fahrenheit=(Celsius * 9/5) + 32\n",
    "print(f'{Celsius} degree Celsius= {Fahrenheit} Fahrenheit')"
   ]
  },
  {
   "cell_type": "markdown",
   "id": "26c58b58",
   "metadata": {},
   "source": [
    "###### ------------------------------------------------------------------------------------------------------------------------------------------------------------------------------------------------------------------"
   ]
  },
  {
   "cell_type": "markdown",
   "id": "792a9db5",
   "metadata": {},
   "source": [
    "## Q3. Write a Python program to display calendar."
   ]
  },
  {
   "cell_type": "markdown",
   "id": "6a0dc86f",
   "metadata": {},
   "source": [
    "#### Ans-"
   ]
  },
  {
   "cell_type": "code",
   "execution_count": 3,
   "id": "cbd44708",
   "metadata": {},
   "outputs": [
    {
     "name": "stdout",
     "output_type": "stream",
     "text": [
      "Enter year,month: 1990,5\n",
      "      May 1990\n",
      "Mo Tu We Th Fr Sa Su\n",
      "    1  2  3  4  5  6\n",
      " 7  8  9 10 11 12 13\n",
      "14 15 16 17 18 19 20\n",
      "21 22 23 24 25 26 27\n",
      "28 29 30 31\n",
      "\n"
     ]
    }
   ],
   "source": [
    "import calendar\n",
    "\n",
    "yyyy,mm=map(lambda x:int(x),(input(\"Enter year,month: \").split(',')))\n",
    "\n",
    "print(calendar.month(yyyy, mm))"
   ]
  },
  {
   "cell_type": "markdown",
   "id": "f5259965",
   "metadata": {},
   "source": [
    "###### ------------------------------------------------------------------------------------------------------------------------------------------------------------------------------------------------------------------"
   ]
  },
  {
   "cell_type": "markdown",
   "id": "881e9a5e",
   "metadata": {},
   "source": [
    "## Q4. Write a Python program to solve quadratic equation."
   ]
  },
  {
   "cell_type": "markdown",
   "id": "810398b5",
   "metadata": {},
   "source": [
    "#### Ans-"
   ]
  },
  {
   "cell_type": "code",
   "execution_count": 4,
   "id": "94f79365",
   "metadata": {},
   "outputs": [
    {
     "name": "stdout",
     "output_type": "stream",
     "text": [
      "Enter values of a,b,c: 2,6,9\n",
      "The solutions of quadratic equation are: (-1.5-1.5j) and (-1.5+1.5j)\n"
     ]
    }
   ],
   "source": [
    "# Format of quadratic equation ax**2 + bx + c = 0\n",
    "import cmath\n",
    "\n",
    "a,b,c=map(lambda x:int(x),(input(\"Enter values of a,b,c: \").split(',')))\n",
    "\n",
    "x = (b**2) - (4*a*c)\n",
    "\n",
    "# find two solutions\n",
    "sol1 = (-b-cmath.sqrt(x))/(2*a)\n",
    "sol2 = (-b+cmath.sqrt(x))/(2*a)\n",
    "\n",
    "print(f'The solutions of quadratic equation are: {sol1} and {sol2}')"
   ]
  },
  {
   "cell_type": "markdown",
   "id": "70d82ff7",
   "metadata": {},
   "source": [
    "###### ------------------------------------------------------------------------------------------------------------------------------------------------------------------------------------------------------------------"
   ]
  },
  {
   "cell_type": "markdown",
   "id": "cc63c996",
   "metadata": {},
   "source": [
    "## Q5. Write a Python program to swap two variables without temp variable."
   ]
  },
  {
   "cell_type": "markdown",
   "id": "19e9f9c1",
   "metadata": {},
   "source": [
    "#### Ans-"
   ]
  },
  {
   "cell_type": "code",
   "execution_count": 5,
   "id": "d85ae306",
   "metadata": {},
   "outputs": [
    {
     "name": "stdout",
     "output_type": "stream",
     "text": [
      "Enter values of x,y: 5,36\n",
      "Value of x: 36\n",
      "Value of y: 5\n"
     ]
    }
   ],
   "source": [
    "x,y=map(lambda a:int(a),(input(\"Enter values of x,y: \").split(',')))\n",
    "\n",
    "x,y=y,x\n",
    "\n",
    "print(f'Value of x: {x}')\n",
    "print(f'Value of y: {y}')"
   ]
  },
  {
   "cell_type": "markdown",
   "id": "b3b25385",
   "metadata": {},
   "source": [
    "###### ------------------------------------------------------------------------------------------------------------------------------------------------------------------------------------------------------------------"
   ]
  }
 ],
 "metadata": {
  "kernelspec": {
   "display_name": "Python 3 (ipykernel)",
   "language": "python",
   "name": "python3"
  },
  "language_info": {
   "codemirror_mode": {
    "name": "ipython",
    "version": 3
   },
   "file_extension": ".py",
   "mimetype": "text/x-python",
   "name": "python",
   "nbconvert_exporter": "python",
   "pygments_lexer": "ipython3",
   "version": "3.9.13"
  }
 },
 "nbformat": 4,
 "nbformat_minor": 5
}
