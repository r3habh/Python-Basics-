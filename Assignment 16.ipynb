{
 "cells": [
  {
   "cell_type": "markdown",
   "id": "fd7e3211",
   "metadata": {},
   "source": [
    "# Python Basics"
   ]
  },
  {
   "cell_type": "markdown",
   "id": "38964490",
   "metadata": {},
   "source": [
    "## Assignment 16"
   ]
  },
  {
   "cell_type": "markdown",
   "id": "fa707fde",
   "metadata": {},
   "source": [
    "# "
   ]
  },
  {
   "cell_type": "markdown",
   "id": "9b0f1627",
   "metadata": {},
   "source": [
    "## Q1. Create a list called years_list, starting with the year of your birth, and each year thereafter until the year of your fifth birthday. For example, if you were born in 1980. the list would be years_list = [1980, 1981, 1982, 1983, 1984, 1985]."
   ]
  },
  {
   "cell_type": "markdown",
   "id": "e3c66964",
   "metadata": {},
   "source": [
    "#### Ans-"
   ]
  },
  {
   "cell_type": "code",
   "execution_count": 1,
   "id": "cec59f43",
   "metadata": {},
   "outputs": [
    {
     "name": "stdout",
     "output_type": "stream",
     "text": [
      "[1995, 1996, 1997, 1998, 1999, 2000]\n"
     ]
    }
   ],
   "source": [
    "years_list=[]\n",
    "born_year=1995\n",
    "for i in range(6):\n",
    "    born_year+=i\n",
    "    years_list.append(born_year)\n",
    "    born_year=1995\n",
    "    \n",
    "print(years_list)"
   ]
  },
  {
   "cell_type": "markdown",
   "id": "fb967f41",
   "metadata": {},
   "source": [
    "###### ------------------------------------------------------------------------------------------------------------------------------------------------------------------------------------------------------------------"
   ]
  },
  {
   "cell_type": "markdown",
   "id": "5022914b",
   "metadata": {},
   "source": [
    "## Q2. In which year in years_list was your third birthday? Remember, you were 0 years of age for your first year."
   ]
  },
  {
   "cell_type": "markdown",
   "id": "9699043f",
   "metadata": {},
   "source": [
    "#### Ans-"
   ]
  },
  {
   "cell_type": "code",
   "execution_count": 2,
   "id": "21f27276",
   "metadata": {},
   "outputs": [
    {
     "data": {
      "text/plain": [
       "1998"
      ]
     },
     "execution_count": 2,
     "metadata": {},
     "output_type": "execute_result"
    }
   ],
   "source": [
    "years_list[3]"
   ]
  },
  {
   "cell_type": "markdown",
   "id": "df4122aa",
   "metadata": {},
   "source": [
    "###### ------------------------------------------------------------------------------------------------------------------------------------------------------------------------------------------------------------------"
   ]
  },
  {
   "cell_type": "markdown",
   "id": "2591fa6b",
   "metadata": {},
   "source": [
    "## Q3.In the years list, which year were you the oldest?"
   ]
  },
  {
   "cell_type": "markdown",
   "id": "1a24e748",
   "metadata": {},
   "source": [
    "#### Ans-"
   ]
  },
  {
   "cell_type": "code",
   "execution_count": 3,
   "id": "61cdf319",
   "metadata": {
    "scrolled": true
   },
   "outputs": [
    {
     "data": {
      "text/plain": [
       "2000"
      ]
     },
     "execution_count": 3,
     "metadata": {},
     "output_type": "execute_result"
    }
   ],
   "source": [
    "years_list[-1]"
   ]
  },
  {
   "cell_type": "markdown",
   "id": "f342d6f9",
   "metadata": {},
   "source": [
    "###### ------------------------------------------------------------------------------------------------------------------------------------------------------------------------------------------------------------------"
   ]
  },
  {
   "cell_type": "markdown",
   "id": "8d35319f",
   "metadata": {},
   "source": [
    "## Q4. Make a list called things with these three strings as elements: &quot;mozzarella&quot;, &quot;cinderella&quot;, &quot;salmonella&quot;."
   ]
  },
  {
   "cell_type": "markdown",
   "id": "2d45046b",
   "metadata": {},
   "source": [
    "#### Ans-"
   ]
  },
  {
   "cell_type": "code",
   "execution_count": 4,
   "id": "f65a405b",
   "metadata": {},
   "outputs": [],
   "source": [
    "things=[\"mozzarella\", \"cinderella\", \"salmonella\"]"
   ]
  },
  {
   "cell_type": "markdown",
   "id": "fd234629",
   "metadata": {},
   "source": [
    "###### ------------------------------------------------------------------------------------------------------------------------------------------------------------------------------------------------------------------"
   ]
  },
  {
   "cell_type": "markdown",
   "id": "88604bed",
   "metadata": {},
   "source": [
    "## Q5. Capitalize the element in things that refers to a person and then print the list. Did it change the element in the list?"
   ]
  },
  {
   "cell_type": "markdown",
   "id": "4ddbf954",
   "metadata": {},
   "source": [
    "#### Ans-"
   ]
  },
  {
   "cell_type": "code",
   "execution_count": 5,
   "id": "0db2c875",
   "metadata": {
    "scrolled": true
   },
   "outputs": [
    {
     "data": {
      "text/plain": [
       "['mozzarella', 'Cinderella', 'salmonella']"
      ]
     },
     "execution_count": 5,
     "metadata": {},
     "output_type": "execute_result"
    }
   ],
   "source": [
    "things[1]=things[1].capitalize()\n",
    "things"
   ]
  },
  {
   "cell_type": "markdown",
   "id": "51a86c3d",
   "metadata": {},
   "source": [
    "###### ------------------------------------------------------------------------------------------------------------------------------------------------------------------------------------------------------------------"
   ]
  },
  {
   "cell_type": "markdown",
   "id": "a54b5417",
   "metadata": {},
   "source": [
    "## Q6. Make a surprise list with the elements &quot;Groucho,&quot; &quot;Chico,&quot; and &quot;Harpo.&quot;"
   ]
  },
  {
   "cell_type": "markdown",
   "id": "f751a250",
   "metadata": {},
   "source": [
    "#### Ans-"
   ]
  },
  {
   "cell_type": "code",
   "execution_count": 6,
   "id": "9419e957",
   "metadata": {},
   "outputs": [],
   "source": [
    "surprise=[\"Groucho,\", \"Chico,\",\"Harpo\"]"
   ]
  },
  {
   "cell_type": "markdown",
   "id": "83c7bd09",
   "metadata": {},
   "source": [
    "###### ------------------------------------------------------------------------------------------------------------------------------------------------------------------------------------------------------------------"
   ]
  },
  {
   "cell_type": "markdown",
   "id": "b968d764",
   "metadata": {},
   "source": [
    "## Q7. Lowercase the last element of the surprise list, reverse it, and then capitalize it."
   ]
  },
  {
   "cell_type": "markdown",
   "id": "48df3e0a",
   "metadata": {},
   "source": [
    "#### Ans-"
   ]
  },
  {
   "cell_type": "code",
   "execution_count": 7,
   "id": "0fef0369",
   "metadata": {
    "scrolled": true
   },
   "outputs": [
    {
     "data": {
      "text/plain": [
       "['Groucho,', 'Chico,', 'Oprah']"
      ]
     },
     "execution_count": 7,
     "metadata": {},
     "output_type": "execute_result"
    }
   ],
   "source": [
    "surprise[-1]=surprise[-1].lower()\n",
    "surprise[-1]=surprise[-1][::-1]\n",
    "surprise[-1]=surprise[-1].capitalize()\n",
    "surprise"
   ]
  },
  {
   "cell_type": "markdown",
   "id": "eefc1569",
   "metadata": {},
   "source": [
    "###### ------------------------------------------------------------------------------------------------------------------------------------------------------------------------------------------------------------------"
   ]
  },
  {
   "cell_type": "markdown",
   "id": "06ec96d7",
   "metadata": {},
   "source": [
    "## Q8. Make an English-to-French dictionary called e2f and print it. Here are your starter words: dog is chien, cat is chat, and walrus is morse."
   ]
  },
  {
   "cell_type": "markdown",
   "id": "e45860d1",
   "metadata": {},
   "source": [
    "#### Ans-"
   ]
  },
  {
   "cell_type": "code",
   "execution_count": 17,
   "id": "b0cce065",
   "metadata": {},
   "outputs": [
    {
     "name": "stdout",
     "output_type": "stream",
     "text": [
      "Collecting translateNote: you may need to restart the kernel to use updated packages.\n",
      "\n",
      "  Downloading translate-3.6.1-py2.py3-none-any.whl (12 kB)\n",
      "Requirement already satisfied: lxml in c:\\users\\rishabh\\anaconda3\\lib\\site-packages (from translate) (4.9.1)\n",
      "Collecting libretranslatepy==2.1.1\n",
      "  Downloading libretranslatepy-2.1.1-py3-none-any.whl (3.2 kB)\n",
      "Requirement already satisfied: requests in c:\\users\\rishabh\\anaconda3\\lib\\site-packages (from translate) (2.28.1)\n",
      "Requirement already satisfied: click in c:\\users\\rishabh\\anaconda3\\lib\\site-packages (from translate) (8.0.4)\n",
      "Requirement already satisfied: colorama in c:\\users\\rishabh\\anaconda3\\lib\\site-packages (from click->translate) (0.4.5)\n",
      "Requirement already satisfied: certifi>=2017.4.17 in c:\\users\\rishabh\\anaconda3\\lib\\site-packages (from requests->translate) (2022.9.14)\n",
      "Requirement already satisfied: urllib3<1.27,>=1.21.1 in c:\\users\\rishabh\\anaconda3\\lib\\site-packages (from requests->translate) (1.26.11)\n",
      "Requirement already satisfied: idna<4,>=2.5 in c:\\users\\rishabh\\anaconda3\\lib\\site-packages (from requests->translate) (3.3)\n",
      "Requirement already satisfied: charset-normalizer<3,>=2 in c:\\users\\rishabh\\anaconda3\\lib\\site-packages (from requests->translate) (2.0.4)\n",
      "Installing collected packages: libretranslatepy, translate\n",
      "Successfully installed libretranslatepy-2.1.1 translate-3.6.1\n"
     ]
    }
   ],
   "source": [
    "pip install translate"
   ]
  },
  {
   "cell_type": "code",
   "execution_count": 8,
   "id": "3601d2d8",
   "metadata": {},
   "outputs": [],
   "source": [
    "from translate import Translator\n",
    "\n",
    "words=[\"dog is chien\", \"cat is chat\",\"walrus is morse\"]\n",
    "\n",
    "def translator(to_language,words_list):\n",
    "    words_translated={}\n",
    "    for i in words_list:      \n",
    "        translator= Translator(to_lang=to_language)\n",
    "        translation = translator.translate(i)\n",
    "        words_translated[i]=translation\n",
    "    return words_translated\n"
   ]
  },
  {
   "cell_type": "code",
   "execution_count": 9,
   "id": "513c6730",
   "metadata": {},
   "outputs": [],
   "source": [
    "e2f=translator(\"fr\",words)"
   ]
  },
  {
   "cell_type": "code",
   "execution_count": 10,
   "id": "7559b330",
   "metadata": {
    "scrolled": true
   },
   "outputs": [
    {
     "data": {
      "text/plain": [
       "{'dog is chien': 'Le chien est chien',\n",
       " 'cat is chat': 'chat est chat',\n",
       " 'walrus is morse': 'Morse est morse'}"
      ]
     },
     "execution_count": 10,
     "metadata": {},
     "output_type": "execute_result"
    }
   ],
   "source": [
    "e2f"
   ]
  },
  {
   "cell_type": "markdown",
   "id": "3121114f",
   "metadata": {},
   "source": [
    "###### ------------------------------------------------------------------------------------------------------------------------------------------------------------------------------------------------------------------"
   ]
  },
  {
   "cell_type": "markdown",
   "id": "43c10ff3",
   "metadata": {},
   "source": [
    "## Q9. Write the French word for walrus in your three-word dictionary e2f."
   ]
  },
  {
   "cell_type": "markdown",
   "id": "dbc3a3a0",
   "metadata": {},
   "source": [
    "#### Ans-"
   ]
  },
  {
   "cell_type": "code",
   "execution_count": 11,
   "id": "e7c14a4a",
   "metadata": {
    "scrolled": true
   },
   "outputs": [
    {
     "data": {
      "text/plain": [
       "{'walrus': 'Morse'}"
      ]
     },
     "execution_count": 11,
     "metadata": {},
     "output_type": "execute_result"
    }
   ],
   "source": [
    "word=[\"walrus\"]\n",
    "translator(\"fr\",word)"
   ]
  },
  {
   "cell_type": "markdown",
   "id": "9d618f4a",
   "metadata": {},
   "source": [
    "###### ------------------------------------------------------------------------------------------------------------------------------------------------------------------------------------------------------------------"
   ]
  },
  {
   "cell_type": "markdown",
   "id": "62d38dd3",
   "metadata": {},
   "source": [
    "## Q10. Make a French-to-English dictionary called f2e from e2f. Use the items method."
   ]
  },
  {
   "cell_type": "markdown",
   "id": "8c01043e",
   "metadata": {},
   "source": [
    "#### Ans-"
   ]
  },
  {
   "cell_type": "code",
   "execution_count": 12,
   "id": "75e241cb",
   "metadata": {},
   "outputs": [
    {
     "name": "stdout",
     "output_type": "stream",
     "text": [
      "{'Le chien est chien': 'dog is chien', 'chat est chat': 'cat is chat', 'Morse est morse': 'walrus is morse'}\n"
     ]
    }
   ],
   "source": [
    "f2e = {v:k for k,v in e2f.items()}\n",
    "print(f2e)"
   ]
  },
  {
   "cell_type": "markdown",
   "id": "3ab907e3",
   "metadata": {},
   "source": [
    "###### ------------------------------------------------------------------------------------------------------------------------------------------------------------------------------------------------------------------"
   ]
  },
  {
   "cell_type": "markdown",
   "id": "defe7c75",
   "metadata": {},
   "source": [
    "## Q11. Print the English version of the French word chien ."
   ]
  },
  {
   "cell_type": "markdown",
   "id": "57cb1903",
   "metadata": {},
   "source": [
    "#### Ans-"
   ]
  },
  {
   "cell_type": "code",
   "execution_count": 13,
   "id": "4f735882",
   "metadata": {},
   "outputs": [
    {
     "name": "stdout",
     "output_type": "stream",
     "text": [
      "{'chien': 'chien', 'chat': 'chat'}\n",
      "{'chien': 'チエン', 'chat': '喋る'}\n"
     ]
    }
   ],
   "source": [
    "word2=[\"chien\",\"chat\"]\n",
    "print(translator(\"en\",word2))\n",
    "print(translator(\"ja\",word2))"
   ]
  },
  {
   "cell_type": "markdown",
   "id": "6182e2d4",
   "metadata": {},
   "source": [
    "NOTE- It seems that the translator library is facing issues in converting text to english language."
   ]
  },
  {
   "cell_type": "markdown",
   "id": "b53f4c50",
   "metadata": {},
   "source": [
    "###### ------------------------------------------------------------------------------------------------------------------------------------------------------------------------------------------------------------------"
   ]
  },
  {
   "cell_type": "markdown",
   "id": "cfe6e6fb",
   "metadata": {},
   "source": [
    "## Q12. Make and print a set of words from the keys in e2f."
   ]
  },
  {
   "cell_type": "markdown",
   "id": "4f5f1842",
   "metadata": {},
   "source": [
    "#### Ans-"
   ]
  },
  {
   "cell_type": "code",
   "execution_count": 14,
   "id": "99c21642",
   "metadata": {},
   "outputs": [
    {
     "data": {
      "text/plain": [
       "{'cat is chat', 'dog is chien', 'walrus is morse'}"
      ]
     },
     "execution_count": 14,
     "metadata": {},
     "output_type": "execute_result"
    }
   ],
   "source": [
    "set(e2f.keys())"
   ]
  },
  {
   "cell_type": "markdown",
   "id": "89696f6f",
   "metadata": {},
   "source": [
    "###### ------------------------------------------------------------------------------------------------------------------------------------------------------------------------------------------------------------------"
   ]
  },
  {
   "cell_type": "markdown",
   "id": "3d0464d3",
   "metadata": {},
   "source": [
    "## Q13. Make a multilevel dictionary called life. Use these strings for the topmost keys: &#39;animals&#39;, &#39;plants&#39;,and &#39;other&#39;. Make the &#39;animals&#39; key refer to another dictionary with the keys &#39;cats&#39;, &#39;octopi&#39;, and&#39;emus&#39;. Make the &#39;cats&#39; key refer to a list of strings with the values &#39;Henri&#39;, &#39;Grumpy&#39;, and &#39;Lucy&#39;. Make all the other keys refer to empty dictionaries."
   ]
  },
  {
   "cell_type": "markdown",
   "id": "8edfb25c",
   "metadata": {},
   "source": [
    "#### Ans-"
   ]
  },
  {
   "cell_type": "code",
   "execution_count": 15,
   "id": "66f088c5",
   "metadata": {},
   "outputs": [],
   "source": [
    "life={'animals':{'cats':['Henri', 'Grumpy','Lucy'], 'octopi':{},'emus':{}}, 'plants':{},'other':{}}"
   ]
  },
  {
   "cell_type": "markdown",
   "id": "fe206e88",
   "metadata": {},
   "source": [
    "###### ------------------------------------------------------------------------------------------------------------------------------------------------------------------------------------------------------------------"
   ]
  },
  {
   "cell_type": "markdown",
   "id": "6ffc8c7a",
   "metadata": {},
   "source": [
    "## Q14. Print the top-level keys of life."
   ]
  },
  {
   "cell_type": "markdown",
   "id": "7379d82c",
   "metadata": {},
   "source": [
    "#### Ans-"
   ]
  },
  {
   "cell_type": "code",
   "execution_count": 16,
   "id": "a6ba6145",
   "metadata": {
    "scrolled": true
   },
   "outputs": [
    {
     "name": "stdout",
     "output_type": "stream",
     "text": [
      "dict_keys(['animals', 'plants', 'other'])\n"
     ]
    }
   ],
   "source": [
    "print(life.keys())"
   ]
  },
  {
   "cell_type": "markdown",
   "id": "08fc33aa",
   "metadata": {},
   "source": [
    "###### ------------------------------------------------------------------------------------------------------------------------------------------------------------------------------------------------------------------"
   ]
  },
  {
   "cell_type": "markdown",
   "id": "5896ae96",
   "metadata": {},
   "source": [
    "## Q15. Print the keys for life[&#39;animals&#39;]."
   ]
  },
  {
   "cell_type": "markdown",
   "id": "7df57181",
   "metadata": {},
   "source": [
    "#### Ans-"
   ]
  },
  {
   "cell_type": "code",
   "execution_count": 17,
   "id": "3defcb41",
   "metadata": {
    "scrolled": true
   },
   "outputs": [
    {
     "name": "stdout",
     "output_type": "stream",
     "text": [
      "dict_keys(['cats', 'octopi', 'emus'])\n"
     ]
    }
   ],
   "source": [
    "print(life['animals'].keys())"
   ]
  },
  {
   "cell_type": "markdown",
   "id": "cca1ab76",
   "metadata": {},
   "source": [
    "###### ------------------------------------------------------------------------------------------------------------------------------------------------------------------------------------------------------------------"
   ]
  },
  {
   "cell_type": "markdown",
   "id": "5c539e06",
   "metadata": {},
   "source": [
    "## Q16. Print the values for life[&#39;animals&#39;][&#39;cats&#39;]"
   ]
  },
  {
   "cell_type": "markdown",
   "id": "c89f4b06",
   "metadata": {},
   "source": [
    "#### Ans-"
   ]
  },
  {
   "cell_type": "code",
   "execution_count": 18,
   "id": "d0dd261a",
   "metadata": {},
   "outputs": [
    {
     "name": "stdout",
     "output_type": "stream",
     "text": [
      "['Henri', 'Grumpy', 'Lucy']\n"
     ]
    }
   ],
   "source": [
    "print(life['animals']['cats'])"
   ]
  },
  {
   "cell_type": "markdown",
   "id": "8c573d2e",
   "metadata": {},
   "source": [
    "###### ------------------------------------------------------------------------------------------------------------------------------------------------------------------------------------------------------------------"
   ]
  }
 ],
 "metadata": {
  "kernelspec": {
   "display_name": "Python 3 (ipykernel)",
   "language": "python",
   "name": "python3"
  },
  "language_info": {
   "codemirror_mode": {
    "name": "ipython",
    "version": 3
   },
   "file_extension": ".py",
   "mimetype": "text/x-python",
   "name": "python",
   "nbconvert_exporter": "python",
   "pygments_lexer": "ipython3",
   "version": "3.9.13"
  }
 },
 "nbformat": 4,
 "nbformat_minor": 5
}
