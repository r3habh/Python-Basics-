{
 "cells": [
  {
   "cell_type": "markdown",
   "id": "f2797a93",
   "metadata": {},
   "source": [
    "# Topic- Boolean"
   ]
  },
  {
   "cell_type": "markdown",
   "id": "5ffdadfc",
   "metadata": {},
   "source": [
    "# "
   ]
  },
  {
   "cell_type": "markdown",
   "id": "7db6b516",
   "metadata": {},
   "source": [
    "## Q1.What are the two values of the Boolean data type? "
   ]
  },
  {
   "cell_type": "markdown",
   "id": "1ec85bb4",
   "metadata": {},
   "source": [
    "True and False"
   ]
  },
  {
   "cell_type": "markdown",
   "id": "ad95dc26",
   "metadata": {},
   "source": [
    "# "
   ]
  },
  {
   "cell_type": "markdown",
   "id": "fb1491d9",
   "metadata": {},
   "source": [
    "## Q2. What are the three different types of Boolean operators?"
   ]
  },
  {
   "cell_type": "markdown",
   "id": "756e5504",
   "metadata": {},
   "source": [
    "AND, OR and NOT"
   ]
  },
  {
   "cell_type": "markdown",
   "id": "de4445dd",
   "metadata": {},
   "source": [
    "# "
   ]
  },
  {
   "cell_type": "markdown",
   "id": "c7428923",
   "metadata": {},
   "source": [
    "## Q3. Make a list of each Boolean operator&#39;s truth tables (i.e. every possible combination of Boolean values for the operator and what it evaluate )."
   ]
  },
  {
   "cell_type": "markdown",
   "id": "6651998b",
   "metadata": {},
   "source": [
    "True and True  = True\n",
    "\n",
    "True or True   = True\n",
    "\n",
    "True or False  = True\n",
    "\n",
    "False or True  = True\n",
    "\n",
    "not False      = True\n",
    "\n",
    "\n",
    "\n",
    "True and False  = False\n",
    "\n",
    "False and True  = False\n",
    "\n",
    "False and False = False\n",
    "\n",
    "False or False  = False\n",
    "\n",
    "not True        = False"
   ]
  },
  {
   "cell_type": "markdown",
   "id": "6f039be7",
   "metadata": {},
   "source": [
    "# "
   ]
  },
  {
   "cell_type": "markdown",
   "id": "0eaa529d",
   "metadata": {},
   "source": [
    "## Q4. What are the values of the following expressions?"
   ]
  },
  {
   "cell_type": "markdown",
   "id": "62433943",
   "metadata": {},
   "source": [
    "1-(5 > 4) and (3 == 5) \n",
    "\n",
    "2-not (5 > 4) \n",
    "\n",
    "3-(5 > 4) or (3 == 5) \n",
    "\n",
    "4-not ((5 > 4) or (3 == 5)) \n",
    "\n",
    "5-(True and True) and (True == False) \n",
    "\n",
    "6-(not False) or (not True)"
   ]
  },
  {
   "cell_type": "markdown",
   "id": "7a451c13",
   "metadata": {},
   "source": [
    "#### Answers-\n",
    "\n",
    "1-False\n",
    "\n",
    "2-False\n",
    "\n",
    "3-True\n",
    "\n",
    "4-False\n",
    "\n",
    "5-False\n",
    "\n",
    "6-True"
   ]
  },
  {
   "cell_type": "markdown",
   "id": "772ebadc",
   "metadata": {},
   "source": [
    "# "
   ]
  },
  {
   "cell_type": "markdown",
   "id": "155cb59c",
   "metadata": {},
   "source": [
    "## Q5. What are the six comparison operators?"
   ]
  },
  {
   "cell_type": "markdown",
   "id": "9d5e00ab",
   "metadata": {},
   "source": [
    "    == ,Equal to\n",
    "\n",
    "    != ,Not Equal to\n",
    "\n",
    "    <  ,Less than \n",
    "\n",
    "    <= ,Less than equal to\n",
    "\n",
    "    > ,Greater than\n",
    "\n",
    "    >= Greater than equal to"
   ]
  },
  {
   "cell_type": "markdown",
   "id": "fc4df8a8",
   "metadata": {},
   "source": [
    "# "
   ]
  },
  {
   "cell_type": "markdown",
   "id": "5c011a4b",
   "metadata": {},
   "source": [
    "## Q6. How do you tell the difference between the equal to and assignment operators?Describe a condition and when you would use one."
   ]
  },
  {
   "cell_type": "markdown",
   "id": "1ff67a6f",
   "metadata": {},
   "source": [
    "### Assigning operator(used for assigning values to variables)\n",
    "a=2\n",
    "\n",
    "### Equal to(check whether it is equal to a value/string)\n",
    "\n",
    "if a==2:\n",
    "\n",
    "    print('Equal')"
   ]
  },
  {
   "cell_type": "markdown",
   "id": "aec9bca9",
   "metadata": {},
   "source": [
    "# "
   ]
  },
  {
   "cell_type": "markdown",
   "id": "69444cab",
   "metadata": {},
   "source": [
    "## Q7. Identify the three blocks in this code:"
   ]
  },
  {
   "cell_type": "markdown",
   "id": "bf604b5d",
   "metadata": {},
   "source": [
    "    spam = 0\n",
    "    if spam == 10:\n",
    "    print(&#39;eggs&#39;)\n",
    "    if spam &gt; 5:\n",
    "    print(&#39;bacon&#39;)\n",
    "    else:\n",
    "    print(&#39;ham&#39;)\n",
    "    print(&#39;spam&#39;)\n",
    "    print(&#39;spam&#39;)"
   ]
  },
  {
   "cell_type": "markdown",
   "id": "3b127200",
   "metadata": {},
   "source": [
    "    spam = 0\n",
    "    if spam == 10:\n",
    "        print(&#39;eggs&#39;)\n",
    "    if spam &gt; 5:\n",
    "        print(&#39;bacon&#39;)\n",
    "    else:\n",
    "        print(&#39;ham&#39;)\n",
    "        print(&#39;spam&#39;)\n",
    "        print(&#39;spam&#39;)"
   ]
  },
  {
   "cell_type": "markdown",
   "id": "f21c181a",
   "metadata": {},
   "source": [
    "# "
   ]
  },
  {
   "cell_type": "markdown",
   "id": "de6ac345",
   "metadata": {},
   "source": [
    "## Q8. Write code that prints Hello if 1 is stored in spam, prints Howdy if 2 is stored in spam, and prints Greetings! if anything else is stored in spam."
   ]
  },
  {
   "cell_type": "code",
   "execution_count": 3,
   "id": "5d756f34",
   "metadata": {},
   "outputs": [
    {
     "name": "stdout",
     "output_type": "stream",
     "text": [
      "Spam:fghfgg\n",
      "Greetings!\n"
     ]
    }
   ],
   "source": [
    "\n",
    "spam=input(\"Spam:\")\n",
    "\n",
    "if spam=='1':\n",
    "    print('Hello')\n",
    "elif spam=='2':\n",
    "    print('Howdy')\n",
    "else:\n",
    "    print('Greetings!')\n",
    "            "
   ]
  },
  {
   "cell_type": "markdown",
   "id": "51ecef91",
   "metadata": {},
   "source": [
    "# "
   ]
  },
  {
   "cell_type": "markdown",
   "id": "d568f887",
   "metadata": {},
   "source": [
    "## Q9.If your programme is stuck in an endless loop, what keys you’ll press?"
   ]
  },
  {
   "cell_type": "markdown",
   "id": "d9baa0c0",
   "metadata": {},
   "source": [
    "Cntrl + C"
   ]
  },
  {
   "cell_type": "markdown",
   "id": "4d023e74",
   "metadata": {},
   "source": [
    "# "
   ]
  },
  {
   "cell_type": "markdown",
   "id": "4ac218b8",
   "metadata": {},
   "source": [
    "## Q10. How can you tell the difference between break and continue?"
   ]
  },
  {
   "cell_type": "markdown",
   "id": "75bfc5c6",
   "metadata": {},
   "source": [
    "Break- the looping would stop"
   ]
  },
  {
   "cell_type": "markdown",
   "id": "e96ef038",
   "metadata": {},
   "source": [
    "Continue-Looping would skip that instance and move forward to another instance"
   ]
  },
  {
   "cell_type": "markdown",
   "id": "8bc47845",
   "metadata": {},
   "source": [
    "# "
   ]
  },
  {
   "cell_type": "markdown",
   "id": "67862644",
   "metadata": {},
   "source": [
    "## Q11. In a for loop, what is the difference between range(10), range(0, 10), and range(0, 10, 1)?"
   ]
  },
  {
   "cell_type": "markdown",
   "id": "7875bd54",
   "metadata": {},
   "source": [
    "    All give the same output, but each one of them give different level of detail.\n",
    "    range(0,10) gives the starting point as 0. Where in range(10) the starting point is 0 by default.\n",
    "    range(0,10,1) gives the interval between iterations were as in range(10) and range(0,10) it is done by default.\n"
   ]
  },
  {
   "cell_type": "markdown",
   "id": "51418908",
   "metadata": {},
   "source": [
    "# "
   ]
  },
  {
   "cell_type": "markdown",
   "id": "e8d89e37",
   "metadata": {},
   "source": [
    "## Q12. Write a short program that prints the numbers 1 to 10 using a for loop. Then write an equivalent program that prints the numbers 1 to 10 using a while loop."
   ]
  },
  {
   "cell_type": "code",
   "execution_count": 1,
   "id": "b7713d1a",
   "metadata": {},
   "outputs": [
    {
     "name": "stdout",
     "output_type": "stream",
     "text": [
      "1\n",
      "2\n",
      "3\n",
      "4\n",
      "5\n",
      "6\n",
      "7\n",
      "8\n",
      "9\n",
      "10\n"
     ]
    }
   ],
   "source": [
    "# For loop\n",
    "for i in range(1,11):\n",
    "    print(i)"
   ]
  },
  {
   "cell_type": "code",
   "execution_count": 2,
   "id": "1182aad1",
   "metadata": {},
   "outputs": [
    {
     "name": "stdout",
     "output_type": "stream",
     "text": [
      "1\n",
      "2\n",
      "3\n",
      "4\n",
      "5\n",
      "6\n",
      "7\n",
      "8\n",
      "9\n",
      "10\n"
     ]
    }
   ],
   "source": [
    "# While loop\n",
    "Number=1\n",
    "while Number<11:\n",
    "    print(Number)\n",
    "    Number+=1"
   ]
  },
  {
   "cell_type": "markdown",
   "id": "2e349b02",
   "metadata": {},
   "source": [
    "# "
   ]
  },
  {
   "cell_type": "markdown",
   "id": "54d5cc78",
   "metadata": {},
   "source": [
    "## Q13. If you had a function named bacon() inside a module named spam, how would you call it after importing spam?"
   ]
  },
  {
   "cell_type": "raw",
   "id": "edad2cec",
   "metadata": {},
   "source": [
    "spam.bacon()"
   ]
  },
  {
   "cell_type": "markdown",
   "id": "4019b190",
   "metadata": {},
   "source": [
    "# "
   ]
  }
 ],
 "metadata": {
  "kernelspec": {
   "display_name": "Python 3 (ipykernel)",
   "language": "python",
   "name": "python3"
  },
  "language_info": {
   "codemirror_mode": {
    "name": "ipython",
    "version": 3
   },
   "file_extension": ".py",
   "mimetype": "text/x-python",
   "name": "python",
   "nbconvert_exporter": "python",
   "pygments_lexer": "ipython3",
   "version": "3.9.13"
  }
 },
 "nbformat": 4,
 "nbformat_minor": 5
}
