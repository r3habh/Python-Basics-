{
 "cells": [
  {
   "cell_type": "markdown",
   "id": "9f1b7737",
   "metadata": {},
   "source": [
    "# Python Basics"
   ]
  },
  {
   "cell_type": "markdown",
   "id": "52370b78",
   "metadata": {},
   "source": [
    "## Assignment 9"
   ]
  },
  {
   "cell_type": "markdown",
   "id": "f558303c",
   "metadata": {},
   "source": [
    "# "
   ]
  },
  {
   "cell_type": "markdown",
   "id": "5f262edb",
   "metadata": {},
   "source": [
    "## Q1. To what does a relative path refer?"
   ]
  },
  {
   "cell_type": "markdown",
   "id": "7b8728ce",
   "metadata": {},
   "source": [
    "#### Ans-"
   ]
  },
  {
   "cell_type": "markdown",
   "id": "4b608531",
   "metadata": {},
   "source": [
    "A relative path refers to a location that is relative to a current directory. Relative paths make use of two special symbols, a dot (.) and a double-dot (..), which translate into the current directory and the parent directory. Double dots are used for moving up in the hierarchy."
   ]
  },
  {
   "cell_type": "markdown",
   "id": "a18d3e84",
   "metadata": {},
   "source": [
    "###### ------------------------------------------------------------------------------------------------------------------------------------------------------------------------------------------------------------------"
   ]
  },
  {
   "cell_type": "markdown",
   "id": "67bc006a",
   "metadata": {},
   "source": [
    "## Q2. What does an absolute path start with your operating system?"
   ]
  },
  {
   "cell_type": "markdown",
   "id": "02902cf3",
   "metadata": {},
   "source": [
    "#### Ans-"
   ]
  },
  {
   "cell_type": "markdown",
   "id": "e21ac0e9",
   "metadata": {},
   "source": [
    "On Windows, an absolute path start is C:\\ ."
   ]
  },
  {
   "cell_type": "markdown",
   "id": "bec5a936",
   "metadata": {},
   "source": [
    "###### ------------------------------------------------------------------------------------------------------------------------------------------------------------------------------------------------------------------"
   ]
  },
  {
   "cell_type": "markdown",
   "id": "6c0dc0bb",
   "metadata": {},
   "source": [
    "## Q3. What do the functions os.getcwd() and os.chdir() do?"
   ]
  },
  {
   "cell_type": "markdown",
   "id": "f673d93b",
   "metadata": {},
   "source": [
    "#### Ans-"
   ]
  },
  {
   "cell_type": "markdown",
   "id": "55a05966",
   "metadata": {},
   "source": [
    "os.getcwd() - get the current working directory .\n",
    "\n",
    "os.chdir()  - changes the current working directory to the given path."
   ]
  },
  {
   "cell_type": "markdown",
   "id": "57d58bfa",
   "metadata": {},
   "source": [
    "###### ------------------------------------------------------------------------------------------------------------------------------------------------------------------------------------------------------------------"
   ]
  },
  {
   "cell_type": "markdown",
   "id": "75984afe",
   "metadata": {},
   "source": [
    "## Q4. What are the . and .. folders?"
   ]
  },
  {
   "cell_type": "markdown",
   "id": "91f6d3a0",
   "metadata": {},
   "source": [
    "#### Ans-"
   ]
  },
  {
   "cell_type": "markdown",
   "id": "34b8062b",
   "metadata": {},
   "source": [
    "A dot (.) -  current directory\n",
    "\n",
    "Double-dot (..) - the parent directory. Double dots are used for moving up in the hierarchy."
   ]
  },
  {
   "cell_type": "markdown",
   "id": "1127ec47",
   "metadata": {},
   "source": [
    "###### ------------------------------------------------------------------------------------------------------------------------------------------------------------------------------------------------------------------"
   ]
  },
  {
   "cell_type": "markdown",
   "id": "0ed93528",
   "metadata": {},
   "source": [
    "## Q5. In C:\\bacon\\eggs\\spam.txt, which part is the dir name, and which part is the base name?"
   ]
  },
  {
   "cell_type": "markdown",
   "id": "3484d2ed",
   "metadata": {},
   "source": [
    "#### Ans-"
   ]
  },
  {
   "cell_type": "markdown",
   "id": "caf615d2",
   "metadata": {},
   "source": [
    "Dir name -   C:\\bacon\\eggs\n",
    "\n",
    "Base name-   spam.txt"
   ]
  },
  {
   "cell_type": "markdown",
   "id": "f2ec656e",
   "metadata": {},
   "source": [
    "###### ------------------------------------------------------------------------------------------------------------------------------------------------------------------------------------------------------------------"
   ]
  },
  {
   "cell_type": "markdown",
   "id": "28b58217",
   "metadata": {},
   "source": [
    "## Q6. What are the three “mode” arguments that can be passed to the open() function?"
   ]
  },
  {
   "cell_type": "markdown",
   "id": "d860f0b6",
   "metadata": {},
   "source": [
    "#### Ans-"
   ]
  },
  {
   "cell_type": "markdown",
   "id": "f6705e37",
   "metadata": {},
   "source": [
    "3 modes are as follows-\n",
    "\n",
    "'r'- Only read mode, default mode for open()\n",
    "\n",
    "'w'- Only write mode, will overwrite any existing file with the same name. It will create a new file if one with the same name doesn't exist.\n",
    "\n",
    "'a'- Append mode.The pointer is placed at the end of the file. A new file is created if one with the same name doesn't exist."
   ]
  },
  {
   "cell_type": "markdown",
   "id": "a82343d7",
   "metadata": {},
   "source": [
    "###### ------------------------------------------------------------------------------------------------------------------------------------------------------------------------------------------------------------------"
   ]
  },
  {
   "cell_type": "markdown",
   "id": "23d8244a",
   "metadata": {},
   "source": [
    "## Q7. What happens if an existing file is opened in write mode?"
   ]
  },
  {
   "cell_type": "markdown",
   "id": "b5e9d176",
   "metadata": {},
   "source": [
    "#### Ans-"
   ]
  },
  {
   "cell_type": "markdown",
   "id": "73f529d4",
   "metadata": {},
   "source": [
    "This will erase all the previous data and write new data."
   ]
  },
  {
   "cell_type": "markdown",
   "id": "f785f5be",
   "metadata": {},
   "source": [
    "###### ------------------------------------------------------------------------------------------------------------------------------------------------------------------------------------------------------------------"
   ]
  },
  {
   "cell_type": "markdown",
   "id": "781454f2",
   "metadata": {},
   "source": [
    "## Q8. How do you tell the difference between read() and readlines()?"
   ]
  },
  {
   "cell_type": "markdown",
   "id": "76f025e1",
   "metadata": {},
   "source": [
    "#### Ans-"
   ]
  },
  {
   "cell_type": "markdown",
   "id": "a1f13cb4",
   "metadata": {},
   "source": [
    "read()- It reads all the data and returns as a single string."
   ]
  },
  {
   "cell_type": "markdown",
   "id": "74a95577",
   "metadata": {},
   "source": [
    "readlines()- read all the lines and convert the data into a list of strings containing one line."
   ]
  },
  {
   "cell_type": "markdown",
   "id": "ee002800",
   "metadata": {},
   "source": [
    "###### ------------------------------------------------------------------------------------------------------------------------------------------------------------------------------------------------------------------"
   ]
  },
  {
   "cell_type": "markdown",
   "id": "b61a13da",
   "metadata": {},
   "source": [
    "## Q9. What data structure does a shelf value resemble?"
   ]
  },
  {
   "cell_type": "markdown",
   "id": "da4a390e",
   "metadata": {},
   "source": [
    "#### Ans-"
   ]
  },
  {
   "cell_type": "markdown",
   "id": "0e42c063",
   "metadata": {},
   "source": [
    "A shelf value resembles a dictionary value; it has keys and values, along with keys() and values() methods that work similarly to the dictionary methods of the same names."
   ]
  },
  {
   "cell_type": "markdown",
   "id": "3855218d",
   "metadata": {},
   "source": [
    "###### ------------------------------------------------------------------------------------------------------------------------------------------------------------------------------------------------------------------"
   ]
  }
 ],
 "metadata": {
  "kernelspec": {
   "display_name": "Python 3 (ipykernel)",
   "language": "python",
   "name": "python3"
  },
  "language_info": {
   "codemirror_mode": {
    "name": "ipython",
    "version": 3
   },
   "file_extension": ".py",
   "mimetype": "text/x-python",
   "name": "python",
   "nbconvert_exporter": "python",
   "pygments_lexer": "ipython3",
   "version": "3.9.13"
  }
 },
 "nbformat": 4,
 "nbformat_minor": 5
}
