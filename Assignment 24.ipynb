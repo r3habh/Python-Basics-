{
 "cells": [
  {
   "cell_type": "markdown",
   "id": "6cd4f965",
   "metadata": {},
   "source": [
    "# Python Basics"
   ]
  },
  {
   "cell_type": "markdown",
   "id": "1bbe3afd",
   "metadata": {},
   "source": [
    "## Assignment 24"
   ]
  },
  {
   "cell_type": "markdown",
   "id": "8b71f72e",
   "metadata": {},
   "source": [
    "# "
   ]
  },
  {
   "cell_type": "markdown",
   "id": "19065872",
   "metadata": {},
   "source": [
    "## Q1. What is the relationship between def statements and lambda expressions ?"
   ]
  },
  {
   "cell_type": "markdown",
   "id": "a0629df2",
   "metadata": {},
   "source": [
    "#### Ans-"
   ]
  },
  {
   "cell_type": "markdown",
   "id": "62ec9cbf",
   "metadata": {},
   "source": [
    "Def statements are used to create a function or a pattern, which we want to use multiple times.\n",
    "\n",
    "On the other hand, lambda expression is used as an alternative to creating functions, where a function is used only once."
   ]
  },
  {
   "cell_type": "markdown",
   "id": "caa73c3e",
   "metadata": {},
   "source": [
    "###### ------------------------------------------------------------------------------------------------------------------------------------------------------------------------------------------------------------------"
   ]
  },
  {
   "cell_type": "markdown",
   "id": "098a85cc",
   "metadata": {},
   "source": [
    "## Q2. What is the benefit of lambda?"
   ]
  },
  {
   "cell_type": "markdown",
   "id": "e0ed785e",
   "metadata": {},
   "source": [
    "#### Ans-"
   ]
  },
  {
   "cell_type": "markdown",
   "id": "740d0d1d",
   "metadata": {},
   "source": [
    "The biggest advantage of lambda expressions is that one does not require to define functions for every function used, before the function has actually been called. If a function is required once, our purpose can be fulfilled by just writing a one line formula/transformation."
   ]
  },
  {
   "cell_type": "markdown",
   "id": "26c58b58",
   "metadata": {},
   "source": [
    "###### ------------------------------------------------------------------------------------------------------------------------------------------------------------------------------------------------------------------"
   ]
  },
  {
   "cell_type": "markdown",
   "id": "792a9db5",
   "metadata": {},
   "source": [
    "## Q3. Compare and contrast map, filter, and reduce."
   ]
  },
  {
   "cell_type": "markdown",
   "id": "6a0dc86f",
   "metadata": {},
   "source": [
    "#### Ans-"
   ]
  },
  {
   "cell_type": "markdown",
   "id": "859e27ac",
   "metadata": {},
   "source": [
    "Map function is used to apply given function to all the elements of input list."
   ]
  },
  {
   "cell_type": "code",
   "execution_count": 1,
   "id": "cbd44708",
   "metadata": {},
   "outputs": [
    {
     "data": {
      "text/plain": [
       "[27, 64, 125, 216]"
      ]
     },
     "execution_count": 1,
     "metadata": {},
     "output_type": "execute_result"
    }
   ],
   "source": [
    "# Using Map to find cubes\n",
    "cube= list(map(lambda x:x**3,range(3,7)))\n",
    "cube"
   ]
  },
  {
   "cell_type": "markdown",
   "id": "5630c8a8",
   "metadata": {},
   "source": [
    "Filter function is used to filter elements of input list using a given condition."
   ]
  },
  {
   "cell_type": "code",
   "execution_count": 2,
   "id": "9fd5c37c",
   "metadata": {},
   "outputs": [
    {
     "data": {
      "text/plain": [
       "[27, 64, 125]"
      ]
     },
     "execution_count": 2,
     "metadata": {},
     "output_type": "execute_result"
    }
   ],
   "source": [
    "# Filter numbers less than 200\n",
    "filter_1= list(filter(lambda x:x<200,cube))\n",
    "filter_1"
   ]
  },
  {
   "cell_type": "markdown",
   "id": "2c364de8",
   "metadata": {},
   "source": [
    "Reduce function is used to do computation on the input list and give a result."
   ]
  },
  {
   "cell_type": "code",
   "execution_count": 3,
   "id": "f2bf9ccb",
   "metadata": {},
   "outputs": [
    {
     "data": {
      "text/plain": [
       "216"
      ]
     },
     "execution_count": 3,
     "metadata": {},
     "output_type": "execute_result"
    }
   ],
   "source": [
    "# Reduce the list by adding all the elements\n",
    "from functools import reduce\n",
    "\n",
    "addition=reduce(lambda x,y:x+y,filter_1)\n",
    "addition"
   ]
  },
  {
   "cell_type": "markdown",
   "id": "f5259965",
   "metadata": {},
   "source": [
    "###### ------------------------------------------------------------------------------------------------------------------------------------------------------------------------------------------------------------------"
   ]
  },
  {
   "cell_type": "markdown",
   "id": "881e9a5e",
   "metadata": {},
   "source": [
    "## Q4. What are function annotations, and how are they used?"
   ]
  },
  {
   "cell_type": "markdown",
   "id": "810398b5",
   "metadata": {},
   "source": [
    "#### Ans-"
   ]
  },
  {
   "cell_type": "markdown",
   "id": "cc01b4f0",
   "metadata": {},
   "source": [
    "Function annotations are arbitrary python expressions that are associated with various part of functions. These expressions are evaluated at compile time and have no use in python’s runtime environment. Python does not attach any meaning to these annotations. \n",
    "\n",
    "Syntax of function annotations for simple parameters and for excess parameters respectively:\n",
    "\n",
    "def foobar(a: expression, b: expression = 5):\n",
    "\n",
    "def foobar(args: expression, kwargs: expression):"
   ]
  },
  {
   "cell_type": "markdown",
   "id": "70d82ff7",
   "metadata": {},
   "source": [
    "###### ------------------------------------------------------------------------------------------------------------------------------------------------------------------------------------------------------------------"
   ]
  },
  {
   "cell_type": "markdown",
   "id": "cc63c996",
   "metadata": {},
   "source": [
    "## Q5. What are recursive functions, and how are they used?"
   ]
  },
  {
   "cell_type": "markdown",
   "id": "19e9f9c1",
   "metadata": {},
   "source": [
    "#### Ans-"
   ]
  },
  {
   "cell_type": "markdown",
   "id": "b8271b67",
   "metadata": {},
   "source": [
    "A recursive function keep calling itself after once its called until a condition is met in order to stop it from calling itself."
   ]
  },
  {
   "cell_type": "code",
   "execution_count": 4,
   "id": "a1567309",
   "metadata": {},
   "outputs": [
    {
     "name": "stdout",
     "output_type": "stream",
     "text": [
      "1\n",
      "2\n",
      "3\n",
      "4\n",
      "5\n",
      "6\n"
     ]
    }
   ],
   "source": [
    "def recursive(num):\n",
    "    if num<6:\n",
    "        num +=1\n",
    "        print(num)\n",
    "        recursive(num)\n",
    "    else:\n",
    "        return num\n",
    "    \n",
    "recursive(0)"
   ]
  },
  {
   "cell_type": "markdown",
   "id": "b3b25385",
   "metadata": {},
   "source": [
    "###### ------------------------------------------------------------------------------------------------------------------------------------------------------------------------------------------------------------------"
   ]
  },
  {
   "cell_type": "markdown",
   "id": "83d8ba44",
   "metadata": {},
   "source": [
    "## Q6. What are some general design guidelines for coding functions?"
   ]
  },
  {
   "cell_type": "markdown",
   "id": "6b425fc6",
   "metadata": {},
   "source": [
    "#### Ans-"
   ]
  },
  {
   "cell_type": "markdown",
   "id": "8a24efdb",
   "metadata": {},
   "source": [
    "Use 4-space indentation and no tabs.\n",
    "\n",
    "Use docstrings\n",
    "\n",
    "Wrap line so that they don’t exceed 79 characters.\n",
    "\n",
    "Use of comments are valuable to both the coders and users in order to understand code and to give instructions for type of inputs required by function.\n",
    "\n",
    "Use Python’s default UTF-8 or ASCII encodings.\n",
    "\n",
    "Naming Conventions."
   ]
  },
  {
   "cell_type": "markdown",
   "id": "6fb99571",
   "metadata": {},
   "source": [
    "###### ------------------------------------------------------------------------------------------------------------------------------------------------------------------------------------------------------------------"
   ]
  },
  {
   "cell_type": "markdown",
   "id": "5923df4f",
   "metadata": {},
   "source": [
    "## Q7. Name three ways by which functions can communicate results to a caller."
   ]
  },
  {
   "cell_type": "markdown",
   "id": "c6ef63f8",
   "metadata": {},
   "source": [
    "#### Ans-"
   ]
  },
  {
   "cell_type": "markdown",
   "id": "fd89171c",
   "metadata": {},
   "source": [
    "return keyword\n",
    "\n",
    "print()\n",
    "\n",
    "Can update any variable."
   ]
  },
  {
   "cell_type": "markdown",
   "id": "e1a0aaae",
   "metadata": {},
   "source": [
    "###### ------------------------------------------------------------------------------------------------------------------------------------------------------------------------------------------------------------------"
   ]
  }
 ],
 "metadata": {
  "kernelspec": {
   "display_name": "Python 3 (ipykernel)",
   "language": "python",
   "name": "python3"
  },
  "language_info": {
   "codemirror_mode": {
    "name": "ipython",
    "version": 3
   },
   "file_extension": ".py",
   "mimetype": "text/x-python",
   "name": "python",
   "nbconvert_exporter": "python",
   "pygments_lexer": "ipython3",
   "version": "3.9.13"
  }
 },
 "nbformat": 4,
 "nbformat_minor": 5
}
