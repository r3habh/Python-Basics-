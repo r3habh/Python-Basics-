{
 "cells": [
  {
   "cell_type": "markdown",
   "id": "41864a61",
   "metadata": {},
   "source": [
    "# Python Basics"
   ]
  },
  {
   "cell_type": "markdown",
   "id": "dd40291e",
   "metadata": {},
   "source": [
    "## Assignment 22"
   ]
  },
  {
   "cell_type": "markdown",
   "id": "bec3871d",
   "metadata": {},
   "source": [
    "# "
   ]
  },
  {
   "cell_type": "markdown",
   "id": "1472af8d",
   "metadata": {},
   "source": [
    "## Q1. What is the result of the code, and explain?"
   ]
  },
  {
   "cell_type": "markdown",
   "id": "3abaa705",
   "metadata": {},
   "source": [
    "X = 'iNeuron'\n",
    "\n",
    "\n",
    "def func():\n",
    "\n",
    "    print(X)\n",
    "\n",
    "func()"
   ]
  },
  {
   "cell_type": "markdown",
   "id": "6e7b6dce",
   "metadata": {},
   "source": [
    "#### Ans-"
   ]
  },
  {
   "cell_type": "markdown",
   "id": "9bcca084",
   "metadata": {},
   "source": [
    "The result would be 'iNeuron' as function has referred to the global variable and then printed it."
   ]
  },
  {
   "cell_type": "code",
   "execution_count": 1,
   "id": "24062062",
   "metadata": {},
   "outputs": [
    {
     "name": "stdout",
     "output_type": "stream",
     "text": [
      "iNeuron\n"
     ]
    }
   ],
   "source": [
    "# Validation\n",
    "\n",
    "X = 'iNeuron'\n",
    "\n",
    "def func():\n",
    "    print(X)\n",
    "\n",
    "func()"
   ]
  },
  {
   "cell_type": "markdown",
   "id": "742e2d54",
   "metadata": {},
   "source": [
    "###### ------------------------------------------------------------------------------------------------------------------------------------------------------------------------------------------------------------------"
   ]
  },
  {
   "cell_type": "markdown",
   "id": "be1083e4",
   "metadata": {},
   "source": [
    "## Q2. What is the result of the code, and explain?"
   ]
  },
  {
   "cell_type": "markdown",
   "id": "42035f58",
   "metadata": {},
   "source": [
    "X = 'iNeuron'\n",
    "\n",
    "\n",
    "def func():\n",
    "    \n",
    "    X = 'NI!'\n",
    "\n",
    "    \n",
    "func()\n",
    "\n",
    "print(X)"
   ]
  },
  {
   "cell_type": "markdown",
   "id": "a1ffd3be",
   "metadata": {},
   "source": [
    "#### Ans-"
   ]
  },
  {
   "cell_type": "markdown",
   "id": "dd612332",
   "metadata": {},
   "source": [
    "The result would be 'iNeuron' as global variable has not been modified. And,local variable cannot be accessed outside the function."
   ]
  },
  {
   "cell_type": "code",
   "execution_count": 2,
   "id": "1584ce65",
   "metadata": {},
   "outputs": [
    {
     "name": "stdout",
     "output_type": "stream",
     "text": [
      "iNeuron\n"
     ]
    }
   ],
   "source": [
    "# Validation\n",
    "X = 'iNeuron'\n",
    "\n",
    "def func():\n",
    "    X = 'NI!'\n",
    "\n",
    "func()\n",
    "print(X)"
   ]
  },
  {
   "cell_type": "markdown",
   "id": "011e0f41",
   "metadata": {},
   "source": [
    "###### ------------------------------------------------------------------------------------------------------------------------------------------------------------------------------------------------------------------"
   ]
  },
  {
   "cell_type": "markdown",
   "id": "1c6b8208",
   "metadata": {},
   "source": [
    "## Q3. What does this code print, and why?"
   ]
  },
  {
   "cell_type": "markdown",
   "id": "5cf6160e",
   "metadata": {},
   "source": [
    "X = 'iNeuron'\n",
    "\n",
    "def func():\n",
    "\n",
    "    X = 'NI'\n",
    "    \n",
    "    print(X)\n",
    "\n",
    "func()\n",
    "\n",
    "print(X)"
   ]
  },
  {
   "cell_type": "markdown",
   "id": "ff66dcb4",
   "metadata": {},
   "source": [
    "#### Ans-"
   ]
  },
  {
   "cell_type": "markdown",
   "id": "efb2dcc5",
   "metadata": {},
   "source": [
    "The result would be-\n",
    "\n",
    "'NI'\n",
    "\n",
    "'iNeuron'\n",
    "\n",
    "\n",
    "As, when the function is called,local variable is referred and it is printed inside the function. But, when the variable X is printed outside function,then global variable is referred and it is printed."
   ]
  },
  {
   "cell_type": "code",
   "execution_count": 3,
   "id": "f4f716aa",
   "metadata": {},
   "outputs": [
    {
     "name": "stdout",
     "output_type": "stream",
     "text": [
      "NI\n",
      "iNeuron\n"
     ]
    }
   ],
   "source": [
    "# Validation\n",
    "X = 'iNeuron'\n",
    "\n",
    "def func():\n",
    "    X = 'NI'    \n",
    "    print(X)\n",
    "\n",
    "func()\n",
    "print(X)"
   ]
  },
  {
   "cell_type": "markdown",
   "id": "26b68829",
   "metadata": {},
   "source": [
    "###### ------------------------------------------------------------------------------------------------------------------------------------------------------------------------------------------------------------------"
   ]
  },
  {
   "cell_type": "markdown",
   "id": "17c68288",
   "metadata": {},
   "source": [
    "## Q4. What output does this code produce? Why?"
   ]
  },
  {
   "cell_type": "markdown",
   "id": "acccc43a",
   "metadata": {},
   "source": [
    "X = 'iNeuron'\n",
    "\n",
    "\n",
    "def func():\n",
    "\n",
    "    global X\n",
    "    \n",
    "    X = 'NI'\n",
    "\n",
    "\n",
    "func()\n",
    "\n",
    "print(X)"
   ]
  },
  {
   "cell_type": "markdown",
   "id": "5bb2080e",
   "metadata": {},
   "source": [
    "#### Ans-"
   ]
  },
  {
   "cell_type": "markdown",
   "id": "4af01845",
   "metadata": {},
   "source": [
    "The output would be-\n",
    "\n",
    "'NI'\n",
    "\n",
    "As, in the func(), global variable is referred by using keyword \"global\". After that, it is updated to 'NI'. That means global variable is edited. That is the reason why it will print 'NI' as an output."
   ]
  },
  {
   "cell_type": "code",
   "execution_count": 4,
   "id": "4d88a69e",
   "metadata": {},
   "outputs": [
    {
     "name": "stdout",
     "output_type": "stream",
     "text": [
      "NI\n"
     ]
    }
   ],
   "source": [
    "# Validation\n",
    "X = 'iNeuron'\n",
    "\n",
    "def func():\n",
    "    global X\n",
    "    X = 'NI'\n",
    "\n",
    "func()\n",
    "print(X)"
   ]
  },
  {
   "cell_type": "markdown",
   "id": "01045354",
   "metadata": {},
   "source": [
    "###### ------------------------------------------------------------------------------------------------------------------------------------------------------------------------------------------------------------------"
   ]
  },
  {
   "cell_type": "markdown",
   "id": "63d106d2",
   "metadata": {},
   "source": [
    "## Q5. What about this code—what’s the output, and why?"
   ]
  },
  {
   "cell_type": "markdown",
   "id": "81b7ea21",
   "metadata": {},
   "source": [
    "X = 'iNeuron'\n",
    "\n",
    "\n",
    "def func():\n",
    "\n",
    "    X = 'NI'\n",
    "    \n",
    "    def nested():\n",
    "\n",
    "        print(X)\n",
    "    \n",
    "    nested()\n",
    "\n",
    "\n",
    "func()\n",
    "\n",
    "print(X)"
   ]
  },
  {
   "cell_type": "markdown",
   "id": "94d0abfe",
   "metadata": {},
   "source": [
    "#### Ans-"
   ]
  },
  {
   "cell_type": "markdown",
   "id": "908ebd82",
   "metadata": {},
   "source": [
    "The output would be-\n",
    "\n",
    "'NI'\n",
    "\n",
    "'iNeuron'\n",
    "\n",
    "As, when func() is run, local variable is referred(X='NI'). Afterwards, this local variable acted as a global variable for nested() and it is printed when nested function is called. At the end global variable is referred, as local variable cannot be referred outside the function in this case."
   ]
  },
  {
   "cell_type": "code",
   "execution_count": 5,
   "id": "23cc83ae",
   "metadata": {},
   "outputs": [
    {
     "name": "stdout",
     "output_type": "stream",
     "text": [
      "NI\n",
      "iNeuron\n"
     ]
    }
   ],
   "source": [
    "# Validation\n",
    "X = 'iNeuron'\n",
    "\n",
    "def func():\n",
    "    X = 'NI'\n",
    "    def nested():\n",
    "        print(X)    \n",
    "    nested()\n",
    "\n",
    "func()\n",
    "print(X)"
   ]
  },
  {
   "cell_type": "markdown",
   "id": "c24404fd",
   "metadata": {},
   "source": [
    "###### ------------------------------------------------------------------------------------------------------------------------------------------------------------------------------------------------------------------"
   ]
  },
  {
   "cell_type": "markdown",
   "id": "f9a50aa0",
   "metadata": {},
   "source": [
    "## Q6. How about this code: what is its output in Python 3, and explain?"
   ]
  },
  {
   "cell_type": "markdown",
   "id": "87ba1ad0",
   "metadata": {},
   "source": [
    "def func():\n",
    "\n",
    "    X = 'NI'\n",
    "    \n",
    "    def nested():\n",
    "    \n",
    "        nonlocal X\n",
    "        \n",
    "        X = 'Spam'\n",
    "        \n",
    "    nested()\n",
    "   \n",
    "    print(X)\n",
    "\n",
    "\n",
    "func()"
   ]
  },
  {
   "cell_type": "markdown",
   "id": "d8626182",
   "metadata": {},
   "source": [
    "#### Ans-"
   ]
  },
  {
   "cell_type": "markdown",
   "id": "3c5a9e11",
   "metadata": {},
   "source": [
    "The output will be-\n",
    "\n",
    "\"Spam\"\n",
    "\n",
    "As nonlocal keyword is used in the context of nested functions where variables can be in neither the local nor the global scope. In this example, variable X in nested() can neither be global variable nor local variable for nested(). So, it will considered a variable of func().Then it updates X='NI' with X='Spam'. Hence, \"Spam\" is printed."
   ]
  },
  {
   "cell_type": "code",
   "execution_count": 6,
   "id": "c235f68f",
   "metadata": {},
   "outputs": [
    {
     "name": "stdout",
     "output_type": "stream",
     "text": [
      "Spam\n"
     ]
    }
   ],
   "source": [
    "# Validation\n",
    "def func():\n",
    "    X = 'NI'\n",
    "    \n",
    "    def nested():    \n",
    "        nonlocal X        \n",
    "        X = 'Spam'\n",
    "        \n",
    "    nested()   \n",
    "    print(X)\n",
    "\n",
    "func()"
   ]
  },
  {
   "cell_type": "markdown",
   "id": "d6ba4243",
   "metadata": {},
   "source": [
    "###### ------------------------------------------------------------------------------------------------------------------------------------------------------------------------------------------------------------------"
   ]
  }
 ],
 "metadata": {
  "kernelspec": {
   "display_name": "Python 3 (ipykernel)",
   "language": "python",
   "name": "python3"
  },
  "language_info": {
   "codemirror_mode": {
    "name": "ipython",
    "version": 3
   },
   "file_extension": ".py",
   "mimetype": "text/x-python",
   "name": "python",
   "nbconvert_exporter": "python",
   "pygments_lexer": "ipython3",
   "version": "3.9.13"
  }
 },
 "nbformat": 4,
 "nbformat_minor": 5
}
