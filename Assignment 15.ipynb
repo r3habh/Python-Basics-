{
 "cells": [
  {
   "cell_type": "markdown",
   "id": "c3a8488c",
   "metadata": {},
   "source": [
    "# Python-Basics"
   ]
  },
  {
   "cell_type": "markdown",
   "id": "73090400",
   "metadata": {},
   "source": [
    "## Assignment 15"
   ]
  },
  {
   "cell_type": "markdown",
   "id": "c47eeeb9",
   "metadata": {},
   "source": [
    "# "
   ]
  },
  {
   "cell_type": "markdown",
   "id": "0657f97f",
   "metadata": {},
   "source": [
    "## Q1.How many seconds are in an hour? Use the interactive interpreter as a calculator and multiply the number of seconds in a minute (60) by the number of minutes in an hour (also 60)."
   ]
  },
  {
   "cell_type": "markdown",
   "id": "7ff9906d",
   "metadata": {},
   "source": [
    "#### Ans-"
   ]
  },
  {
   "cell_type": "code",
   "execution_count": 3,
   "id": "1fb477da",
   "metadata": {},
   "outputs": [
    {
     "data": {
      "text/plain": [
       "3600"
      ]
     },
     "execution_count": 3,
     "metadata": {},
     "output_type": "execute_result"
    }
   ],
   "source": [
    "seconds_per_min=60\n",
    "min_per_hour=60\n",
    "seconds_per_min*min_per_hour"
   ]
  },
  {
   "cell_type": "markdown",
   "id": "0781616a",
   "metadata": {},
   "source": [
    "###### ------------------------------------------------------------------------------------------------------------------------------------------------------------------------------------------------------------------"
   ]
  },
  {
   "cell_type": "markdown",
   "id": "4c0f46c4",
   "metadata": {},
   "source": [
    "## Q2. Assign the result from the previous task (seconds in an hour) to a variable called seconds_per_hour."
   ]
  },
  {
   "cell_type": "markdown",
   "id": "c3ec5e18",
   "metadata": {},
   "source": [
    "#### Ans-"
   ]
  },
  {
   "cell_type": "code",
   "execution_count": 2,
   "id": "f040903b",
   "metadata": {},
   "outputs": [],
   "source": [
    "seconds_per_hour=3600"
   ]
  },
  {
   "cell_type": "markdown",
   "id": "17bc96be",
   "metadata": {},
   "source": [
    "###### ------------------------------------------------------------------------------------------------------------------------------------------------------------------------------------------------------------------"
   ]
  },
  {
   "cell_type": "markdown",
   "id": "ea4d41c4",
   "metadata": {},
   "source": [
    "## Q3. How many seconds do you think there are in a day? Make use of the variables seconds per hour and minutes per hour?"
   ]
  },
  {
   "cell_type": "markdown",
   "id": "2b56a2ba",
   "metadata": {},
   "source": [
    "#### Ans-"
   ]
  },
  {
   "cell_type": "code",
   "execution_count": 4,
   "id": "171d8804",
   "metadata": {},
   "outputs": [
    {
     "name": "stdout",
     "output_type": "stream",
     "text": [
      "seconds per day: 86400\n"
     ]
    }
   ],
   "source": [
    "hours_per_day=24\n",
    "print(f'seconds per day: {seconds_per_hour*hours_per_day}')"
   ]
  },
  {
   "cell_type": "markdown",
   "id": "df612f20",
   "metadata": {},
   "source": [
    "###### ------------------------------------------------------------------------------------------------------------------------------------------------------------------------------------------------------------------"
   ]
  },
  {
   "cell_type": "markdown",
   "id": "bb853dbf",
   "metadata": {},
   "source": [
    "## Q4. Calculate seconds per day again, but this time save the result in a variable called seconds_per_day."
   ]
  },
  {
   "cell_type": "markdown",
   "id": "afd83c24",
   "metadata": {},
   "source": [
    "#### Ans-"
   ]
  },
  {
   "cell_type": "code",
   "execution_count": 5,
   "id": "713f4ca8",
   "metadata": {},
   "outputs": [],
   "source": [
    "seconds_per_day=seconds_per_hour*hours_per_day"
   ]
  },
  {
   "cell_type": "markdown",
   "id": "ccab7ccb",
   "metadata": {},
   "source": [
    "###### ------------------------------------------------------------------------------------------------------------------------------------------------------------------------------------------------------------------"
   ]
  },
  {
   "cell_type": "markdown",
   "id": "eb26cf0f",
   "metadata": {},
   "source": [
    "## Q5. Divide seconds_per_day by seconds_per_hour. Use floating-point (/) division."
   ]
  },
  {
   "cell_type": "markdown",
   "id": "73c75f4d",
   "metadata": {},
   "source": [
    "#### Ans-"
   ]
  },
  {
   "cell_type": "code",
   "execution_count": 6,
   "id": "c9e058cb",
   "metadata": {},
   "outputs": [
    {
     "data": {
      "text/plain": [
       "24.0"
      ]
     },
     "execution_count": 6,
     "metadata": {},
     "output_type": "execute_result"
    }
   ],
   "source": [
    "seconds_per_day/seconds_per_hour"
   ]
  },
  {
   "cell_type": "markdown",
   "id": "a03f0f9a",
   "metadata": {},
   "source": [
    "###### ------------------------------------------------------------------------------------------------------------------------------------------------------------------------------------------------------------------"
   ]
  },
  {
   "cell_type": "markdown",
   "id": "8d903713",
   "metadata": {},
   "source": [
    "## Q6. Divide seconds_per_day by seconds_per_hour, using integer (//) division. Did this number agree with the floating-point value from the previous question, aside from the final .0?"
   ]
  },
  {
   "cell_type": "markdown",
   "id": "499ecb37",
   "metadata": {},
   "source": [
    "#### Ans-"
   ]
  },
  {
   "cell_type": "code",
   "execution_count": 7,
   "id": "0f421af8",
   "metadata": {},
   "outputs": [
    {
     "data": {
      "text/plain": [
       "24"
      ]
     },
     "execution_count": 7,
     "metadata": {},
     "output_type": "execute_result"
    }
   ],
   "source": [
    "seconds_per_day//seconds_per_hour"
   ]
  },
  {
   "cell_type": "code",
   "execution_count": null,
   "id": "e6b54252",
   "metadata": {},
   "outputs": [],
   "source": [
    "Yes, they do match."
   ]
  },
  {
   "cell_type": "markdown",
   "id": "1e8cca37",
   "metadata": {},
   "source": [
    "###### ------------------------------------------------------------------------------------------------------------------------------------------------------------------------------------------------------------------"
   ]
  }
 ],
 "metadata": {
  "kernelspec": {
   "display_name": "Python 3 (ipykernel)",
   "language": "python",
   "name": "python3"
  },
  "language_info": {
   "codemirror_mode": {
    "name": "ipython",
    "version": 3
   },
   "file_extension": ".py",
   "mimetype": "text/x-python",
   "name": "python",
   "nbconvert_exporter": "python",
   "pygments_lexer": "ipython3",
   "version": "3.9.13"
  }
 },
 "nbformat": 4,
 "nbformat_minor": 5
}
