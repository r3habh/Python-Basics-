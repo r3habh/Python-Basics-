{
 "cells": [
  {
   "cell_type": "markdown",
   "id": "e0422978",
   "metadata": {},
   "source": [
    "# Python-Basics"
   ]
  },
  {
   "cell_type": "markdown",
   "id": "cbe5ebc2",
   "metadata": {},
   "source": [
    "## Assignment 15"
   ]
  },
  {
   "cell_type": "markdown",
   "id": "01f868c7",
   "metadata": {},
   "source": [
    "# "
   ]
  },
  {
   "cell_type": "markdown",
   "id": "ac475a18",
   "metadata": {},
   "source": [
    "## Q1.How many seconds are in an hour? Use the interactive interpreter as a calculator and multiply the number of seconds in a minute (60) by the number of minutes in an hour (also 60)."
   ]
  },
  {
   "cell_type": "markdown",
   "id": "e771c9dc",
   "metadata": {},
   "source": [
    "#### Ans-"
   ]
  },
  {
   "cell_type": "code",
   "execution_count": 1,
   "id": "4ad3b09c",
   "metadata": {},
   "outputs": [
    {
     "data": {
      "text/plain": [
       "3600"
      ]
     },
     "execution_count": 1,
     "metadata": {},
     "output_type": "execute_result"
    }
   ],
   "source": [
    "seconds_per_min=60\n",
    "min_per_hour=60\n",
    "seconds_per_min*min_per_hour"
   ]
  },
  {
   "cell_type": "markdown",
   "id": "96678554",
   "metadata": {},
   "source": [
    "###### ------------------------------------------------------------------------------------------------------------------------------------------------------------------------------------------------------------------"
   ]
  },
  {
   "cell_type": "markdown",
   "id": "2f24d7e5",
   "metadata": {},
   "source": [
    "## Q2. Assign the result from the previous task (seconds in an hour) to a variable called seconds_per_hour."
   ]
  },
  {
   "cell_type": "markdown",
   "id": "730a3bc1",
   "metadata": {},
   "source": [
    "#### Ans-"
   ]
  },
  {
   "cell_type": "code",
   "execution_count": 2,
   "id": "7d32aec7",
   "metadata": {},
   "outputs": [],
   "source": [
    "seconds_per_hour=3600"
   ]
  },
  {
   "cell_type": "markdown",
   "id": "3e47db16",
   "metadata": {},
   "source": [
    "###### ------------------------------------------------------------------------------------------------------------------------------------------------------------------------------------------------------------------"
   ]
  },
  {
   "cell_type": "markdown",
   "id": "71a4f2f6",
   "metadata": {},
   "source": [
    "## Q3. How many seconds do you think there are in a day? Make use of the variables seconds per hour and minutes per hour?"
   ]
  },
  {
   "cell_type": "markdown",
   "id": "86efb707",
   "metadata": {},
   "source": [
    "#### Ans-"
   ]
  },
  {
   "cell_type": "code",
   "execution_count": 3,
   "id": "7b4d2e13",
   "metadata": {},
   "outputs": [
    {
     "name": "stdout",
     "output_type": "stream",
     "text": [
      "seconds per day: 86400\n"
     ]
    }
   ],
   "source": [
    "hours_per_day=24\n",
    "print(f'seconds per day: {seconds_per_hour*hours_per_day}')"
   ]
  },
  {
   "cell_type": "markdown",
   "id": "908d3aa8",
   "metadata": {},
   "source": [
    "###### ------------------------------------------------------------------------------------------------------------------------------------------------------------------------------------------------------------------"
   ]
  },
  {
   "cell_type": "markdown",
   "id": "ba7de471",
   "metadata": {},
   "source": [
    "## Q4. Calculate seconds per day again, but this time save the result in a variable called seconds_per_day."
   ]
  },
  {
   "cell_type": "markdown",
   "id": "b46715e9",
   "metadata": {},
   "source": [
    "#### Ans-"
   ]
  },
  {
   "cell_type": "code",
   "execution_count": 4,
   "id": "c50d86bb",
   "metadata": {},
   "outputs": [],
   "source": [
    "seconds_per_day=seconds_per_hour*hours_per_day"
   ]
  },
  {
   "cell_type": "markdown",
   "id": "a4a51ec4",
   "metadata": {},
   "source": [
    "###### ------------------------------------------------------------------------------------------------------------------------------------------------------------------------------------------------------------------"
   ]
  },
  {
   "cell_type": "markdown",
   "id": "1b093808",
   "metadata": {},
   "source": [
    "## Q5. Divide seconds_per_day by seconds_per_hour. Use floating-point (/) division."
   ]
  },
  {
   "cell_type": "markdown",
   "id": "443718de",
   "metadata": {},
   "source": [
    "#### Ans-"
   ]
  },
  {
   "cell_type": "code",
   "execution_count": 5,
   "id": "ac712f96",
   "metadata": {},
   "outputs": [
    {
     "data": {
      "text/plain": [
       "24.0"
      ]
     },
     "execution_count": 5,
     "metadata": {},
     "output_type": "execute_result"
    }
   ],
   "source": [
    "seconds_per_day/seconds_per_hour"
   ]
  },
  {
   "cell_type": "markdown",
   "id": "98e51367",
   "metadata": {},
   "source": [
    "###### ------------------------------------------------------------------------------------------------------------------------------------------------------------------------------------------------------------------"
   ]
  },
  {
   "cell_type": "markdown",
   "id": "d13813d4",
   "metadata": {},
   "source": [
    "## Q6. Divide seconds_per_day by seconds_per_hour, using integer (//) division. Did this number agree with the floating-point value from the previous question, aside from the final .0?"
   ]
  },
  {
   "cell_type": "markdown",
   "id": "0bb1a3b9",
   "metadata": {},
   "source": [
    "#### Ans-"
   ]
  },
  {
   "cell_type": "code",
   "execution_count": 6,
   "id": "017c7903",
   "metadata": {},
   "outputs": [
    {
     "data": {
      "text/plain": [
       "24"
      ]
     },
     "execution_count": 6,
     "metadata": {},
     "output_type": "execute_result"
    }
   ],
   "source": [
    "seconds_per_day//seconds_per_hour"
   ]
  },
  {
   "cell_type": "markdown",
   "id": "c454e8f2",
   "metadata": {},
   "source": [
    "Yes, they do match."
   ]
  },
  {
   "cell_type": "markdown",
   "id": "610f5f88",
   "metadata": {},
   "source": [
    "###### ------------------------------------------------------------------------------------------------------------------------------------------------------------------------------------------------------------------"
   ]
  },
  {
   "cell_type": "markdown",
   "id": "48233713",
   "metadata": {},
   "source": [
    "## Q7. Write a generator, genPrimes, that returns the sequence of prime numbers on successive calls to its next() method: 2, 3, 5, 7, 11, ..."
   ]
  },
  {
   "cell_type": "markdown",
   "id": "f8a275de",
   "metadata": {},
   "source": [
    "#### Ans-"
   ]
  },
  {
   "cell_type": "code",
   "execution_count": 7,
   "id": "e4e5349c",
   "metadata": {},
   "outputs": [],
   "source": [
    "def genPrimes(num):\n",
    "\n",
    "    for i in range(2,num):\n",
    "        prime=True\n",
    "        for j in range(2,i):\n",
    "            if i%j==0:\n",
    "                prime=False\n",
    "                break\n",
    "\n",
    "        if prime==True:\n",
    "            yield i\n"
   ]
  },
  {
   "cell_type": "code",
   "execution_count": 8,
   "id": "8046cd51",
   "metadata": {},
   "outputs": [],
   "source": [
    "Primes=genPrimes(21)"
   ]
  },
  {
   "cell_type": "code",
   "execution_count": 9,
   "id": "4a905957",
   "metadata": {},
   "outputs": [
    {
     "name": "stdout",
     "output_type": "stream",
     "text": [
      "2\n"
     ]
    }
   ],
   "source": [
    "print(next(Primes))"
   ]
  },
  {
   "cell_type": "code",
   "execution_count": 10,
   "id": "33e34dd7",
   "metadata": {},
   "outputs": [
    {
     "name": "stdout",
     "output_type": "stream",
     "text": [
      "3\n"
     ]
    }
   ],
   "source": [
    "print(next(Primes))"
   ]
  },
  {
   "cell_type": "code",
   "execution_count": 11,
   "id": "c22ff1ee",
   "metadata": {},
   "outputs": [
    {
     "name": "stdout",
     "output_type": "stream",
     "text": [
      "5\n"
     ]
    }
   ],
   "source": [
    "print(next(Primes))"
   ]
  },
  {
   "cell_type": "code",
   "execution_count": 12,
   "id": "74757cec",
   "metadata": {},
   "outputs": [
    {
     "name": "stdout",
     "output_type": "stream",
     "text": [
      "7\n"
     ]
    }
   ],
   "source": [
    "print(next(Primes))"
   ]
  },
  {
   "cell_type": "code",
   "execution_count": 13,
   "id": "487a9421",
   "metadata": {},
   "outputs": [
    {
     "name": "stdout",
     "output_type": "stream",
     "text": [
      "11\n"
     ]
    }
   ],
   "source": [
    "print(next(Primes))"
   ]
  },
  {
   "cell_type": "code",
   "execution_count": 14,
   "id": "d30c8ec9",
   "metadata": {},
   "outputs": [
    {
     "name": "stdout",
     "output_type": "stream",
     "text": [
      "13\n"
     ]
    }
   ],
   "source": [
    "print(next(Primes))"
   ]
  },
  {
   "cell_type": "code",
   "execution_count": 15,
   "id": "bc750099",
   "metadata": {},
   "outputs": [
    {
     "name": "stdout",
     "output_type": "stream",
     "text": [
      "17\n"
     ]
    }
   ],
   "source": [
    "print(next(Primes))"
   ]
  },
  {
   "cell_type": "code",
   "execution_count": 16,
   "id": "7ee0d9e4",
   "metadata": {},
   "outputs": [
    {
     "name": "stdout",
     "output_type": "stream",
     "text": [
      "19\n"
     ]
    }
   ],
   "source": [
    "print(next(Primes))"
   ]
  },
  {
   "cell_type": "markdown",
   "id": "b304163c",
   "metadata": {},
   "source": [
    "###### ------------------------------------------------------------------------------------------------------------------------------------------------------------------------------------------------------------------"
   ]
  }
 ],
 "metadata": {
  "kernelspec": {
   "display_name": "Python 3 (ipykernel)",
   "language": "python",
   "name": "python3"
  },
  "language_info": {
   "codemirror_mode": {
    "name": "ipython",
    "version": 3
   },
   "file_extension": ".py",
   "mimetype": "text/x-python",
   "name": "python",
   "nbconvert_exporter": "python",
   "pygments_lexer": "ipython3",
   "version": "3.9.13"
  }
 },
 "nbformat": 4,
 "nbformat_minor": 5
}
