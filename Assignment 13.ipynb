{
 "cells": [
  {
   "cell_type": "markdown",
   "id": "6b5f53d1",
   "metadata": {},
   "source": [
    "# Python Basics"
   ]
  },
  {
   "cell_type": "markdown",
   "id": "9754f351",
   "metadata": {},
   "source": [
    "## Assignment 13"
   ]
  },
  {
   "cell_type": "markdown",
   "id": "c839cc41",
   "metadata": {},
   "source": [
    "# "
   ]
  },
  {
   "cell_type": "markdown",
   "id": "5d1cf886",
   "metadata": {},
   "source": [
    "## Q1. What advantages do Excel spreadsheets have over CSV spreadsheets?"
   ]
  },
  {
   "cell_type": "markdown",
   "id": "d310745c",
   "metadata": {},
   "source": [
    "#### Ans-"
   ]
  },
  {
   "cell_type": "markdown",
   "id": "c149a86b",
   "metadata": {},
   "source": [
    "In Excel,reading large data set is much easier for the end-user to read, comprehend and understand when compared to CSV.\n",
    "\n",
    "Excel also provides the user option for external linking of data from other sources, and also, the user can do custom add-ins.\n",
    "\n",
    "Excel can perform VBA Coding, functions, formulas and create summaries easily when compared to CSV.\n",
    "\n"
   ]
  },
  {
   "cell_type": "markdown",
   "id": "20b736bc",
   "metadata": {},
   "source": [
    "###### ------------------------------------------------------------------------------------------------------------------------------------------------------------------------------------------------------------------"
   ]
  },
  {
   "cell_type": "markdown",
   "id": "a9b7cafe",
   "metadata": {},
   "source": [
    "## Q2.What do you pass to csv.reader() and csv.writer() to create reader and writer objects?"
   ]
  },
  {
   "cell_type": "markdown",
   "id": "4af23b5e",
   "metadata": {},
   "source": [
    "#### Ans-"
   ]
  },
  {
   "cell_type": "markdown",
   "id": "19e1a4c9",
   "metadata": {},
   "source": [
    "File object is passed to reader() and writer() objects."
   ]
  },
  {
   "cell_type": "code",
   "execution_count": 1,
   "id": "71c7679e",
   "metadata": {},
   "outputs": [],
   "source": [
    "import csv\n",
    "file_object = open('gears.csv','r')\n",
    "file_reader = csv.reader(file_object)"
   ]
  },
  {
   "cell_type": "markdown",
   "id": "aefcc8fe",
   "metadata": {},
   "source": [
    "###### ------------------------------------------------------------------------------------------------------------------------------------------------------------------------------------------------------------------"
   ]
  },
  {
   "cell_type": "markdown",
   "id": "7506b6e4",
   "metadata": {},
   "source": [
    "## Q3. What modes do File objects for reader and writer objects need to be opened in?"
   ]
  },
  {
   "cell_type": "markdown",
   "id": "8eb71220",
   "metadata": {},
   "source": [
    "#### Ans-"
   ]
  },
  {
   "cell_type": "markdown",
   "id": "b05e68ac",
   "metadata": {},
   "source": [
    "reader objects- 'r'\n",
    "\n",
    "writer objects- 'w'"
   ]
  },
  {
   "cell_type": "markdown",
   "id": "effd72a2",
   "metadata": {},
   "source": [
    "###### ------------------------------------------------------------------------------------------------------------------------------------------------------------------------------------------------------------------"
   ]
  },
  {
   "cell_type": "markdown",
   "id": "7b404f41",
   "metadata": {},
   "source": [
    "## Q4. What method takes a list argument and writes it to a CSV file?"
   ]
  },
  {
   "cell_type": "markdown",
   "id": "db5e1b55",
   "metadata": {},
   "source": [
    "#### Ans-"
   ]
  },
  {
   "cell_type": "code",
   "execution_count": 2,
   "id": "d774a22a",
   "metadata": {
    "scrolled": true
   },
   "outputs": [
    {
     "data": {
      "text/plain": [
       "20"
      ]
     },
     "execution_count": 2,
     "metadata": {},
     "output_type": "execute_result"
    }
   ],
   "source": [
    "file_object = open('gears.csv','w')\n",
    "file_writer = csv.writer(file_object)\n",
    "file_writer.writerow(['bevel','helical', 'spur'])"
   ]
  },
  {
   "cell_type": "markdown",
   "id": "aff29965",
   "metadata": {},
   "source": [
    "###### ------------------------------------------------------------------------------------------------------------------------------------------------------------------------------------------------------------------"
   ]
  },
  {
   "cell_type": "markdown",
   "id": "b155347d",
   "metadata": {},
   "source": [
    "## Q5. What do the keyword arguments delimiter and line terminator do?"
   ]
  },
  {
   "cell_type": "markdown",
   "id": "f482542d",
   "metadata": {},
   "source": [
    "#### Ans-"
   ]
  },
  {
   "cell_type": "markdown",
   "id": "2ef0f7b7",
   "metadata": {},
   "source": [
    "The delimiter argument uses a character to separate cells in a row.\n",
    "\n",
    "The line terminator argument uses a character to separate rows."
   ]
  },
  {
   "cell_type": "markdown",
   "id": "6a9f27fa",
   "metadata": {},
   "source": [
    "###### ------------------------------------------------------------------------------------------------------------------------------------------------------------------------------------------------------------------"
   ]
  },
  {
   "cell_type": "markdown",
   "id": "4035e28d",
   "metadata": {},
   "source": [
    "## Q6. What function takes a string of JSON data and returns a Python data structure?"
   ]
  },
  {
   "cell_type": "markdown",
   "id": "d296b444",
   "metadata": {},
   "source": [
    "#### Ans-"
   ]
  },
  {
   "cell_type": "markdown",
   "id": "540d3645",
   "metadata": {},
   "source": [
    "json.loads()"
   ]
  },
  {
   "cell_type": "markdown",
   "id": "81afc4ef",
   "metadata": {},
   "source": [
    "###### ------------------------------------------------------------------------------------------------------------------------------------------------------------------------------------------------------------------"
   ]
  },
  {
   "cell_type": "markdown",
   "id": "354294bb",
   "metadata": {},
   "source": [
    "## Q7. What function takes a Python data structure and returns a string of JSON data?"
   ]
  },
  {
   "cell_type": "markdown",
   "id": "f7b335c7",
   "metadata": {},
   "source": [
    "#### Ans-"
   ]
  },
  {
   "cell_type": "markdown",
   "id": "646e5c71",
   "metadata": {},
   "source": [
    "json.dumps()"
   ]
  },
  {
   "cell_type": "markdown",
   "id": "a38eba5a",
   "metadata": {},
   "source": [
    "###### ------------------------------------------------------------------------------------------------------------------------------------------------------------------------------------------------------------------"
   ]
  }
 ],
 "metadata": {
  "kernelspec": {
   "display_name": "Python 3 (ipykernel)",
   "language": "python",
   "name": "python3"
  },
  "language_info": {
   "codemirror_mode": {
    "name": "ipython",
    "version": 3
   },
   "file_extension": ".py",
   "mimetype": "text/x-python",
   "name": "python",
   "nbconvert_exporter": "python",
   "pygments_lexer": "ipython3",
   "version": "3.9.13"
  }
 },
 "nbformat": 4,
 "nbformat_minor": 5
}
