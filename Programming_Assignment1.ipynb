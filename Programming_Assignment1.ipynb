{
 "cells": [
  {
   "cell_type": "markdown",
   "id": "6cd4f965",
   "metadata": {},
   "source": [
    "# Python Basics"
   ]
  },
  {
   "cell_type": "markdown",
   "id": "1bbe3afd",
   "metadata": {},
   "source": [
    "## Programming_Assignment1"
   ]
  },
  {
   "cell_type": "markdown",
   "id": "8b71f72e",
   "metadata": {},
   "source": [
    "# "
   ]
  },
  {
   "cell_type": "markdown",
   "id": "19065872",
   "metadata": {},
   "source": [
    "## Q1. Write a Python program to print \"Hello Python\"."
   ]
  },
  {
   "cell_type": "markdown",
   "id": "a0629df2",
   "metadata": {},
   "source": [
    "#### Ans-"
   ]
  },
  {
   "cell_type": "code",
   "execution_count": 2,
   "id": "d117ef0f",
   "metadata": {},
   "outputs": [
    {
     "name": "stdout",
     "output_type": "stream",
     "text": [
      "Hello Python\n"
     ]
    }
   ],
   "source": [
    "print(\"Hello Python\")"
   ]
  },
  {
   "cell_type": "markdown",
   "id": "caa73c3e",
   "metadata": {},
   "source": [
    "###### ------------------------------------------------------------------------------------------------------------------------------------------------------------------------------------------------------------------"
   ]
  },
  {
   "cell_type": "markdown",
   "id": "098a85cc",
   "metadata": {},
   "source": [
    "## Q2. Write a Python program to do arithmetical operations addition and division."
   ]
  },
  {
   "cell_type": "markdown",
   "id": "e0ed785e",
   "metadata": {},
   "source": [
    "#### Ans-"
   ]
  },
  {
   "cell_type": "code",
   "execution_count": 3,
   "id": "ac1f58fb",
   "metadata": {},
   "outputs": [
    {
     "name": "stdout",
     "output_type": "stream",
     "text": [
      "15\n",
      "0.5\n"
     ]
    }
   ],
   "source": [
    "def addition(a,b):\n",
    "    result=a+b\n",
    "    return result\n",
    "\n",
    "def division(a,b):\n",
    "    result=a/b\n",
    "    return result\n",
    "\n",
    "print(addition(5,10))\n",
    "print(division(5,10))"
   ]
  },
  {
   "cell_type": "markdown",
   "id": "26c58b58",
   "metadata": {},
   "source": [
    "###### ------------------------------------------------------------------------------------------------------------------------------------------------------------------------------------------------------------------"
   ]
  },
  {
   "cell_type": "markdown",
   "id": "792a9db5",
   "metadata": {},
   "source": [
    "## Q3. Write a Python program to find the area of a triangle."
   ]
  },
  {
   "cell_type": "markdown",
   "id": "6a0dc86f",
   "metadata": {},
   "source": [
    "#### Ans-"
   ]
  },
  {
   "cell_type": "code",
   "execution_count": 5,
   "id": "cbd44708",
   "metadata": {},
   "outputs": [
    {
     "data": {
      "text/plain": [
       "25.0"
      ]
     },
     "execution_count": 5,
     "metadata": {},
     "output_type": "execute_result"
    }
   ],
   "source": [
    "def area_triangle(base,height):\n",
    "    area=0.5*base*height\n",
    "    return area\n",
    "\n",
    "area_triangle(5,10)"
   ]
  },
  {
   "cell_type": "markdown",
   "id": "f5259965",
   "metadata": {},
   "source": [
    "###### ------------------------------------------------------------------------------------------------------------------------------------------------------------------------------------------------------------------"
   ]
  },
  {
   "cell_type": "markdown",
   "id": "881e9a5e",
   "metadata": {},
   "source": [
    "## Q4. Write a Python program to swap two variables."
   ]
  },
  {
   "cell_type": "markdown",
   "id": "810398b5",
   "metadata": {},
   "source": [
    "#### Ans-"
   ]
  },
  {
   "cell_type": "code",
   "execution_count": 12,
   "id": "94f79365",
   "metadata": {},
   "outputs": [
    {
     "name": "stdout",
     "output_type": "stream",
     "text": [
      "Enter value of x: 4\n",
      "Enter value of y: 9\n",
      "Value of x: 9\n",
      "Value of y: 4\n"
     ]
    }
   ],
   "source": [
    "x=int(input(\"Enter value of x: \"))\n",
    "y=int(input(\"Enter value of y: \"))\n",
    "\n",
    "x,y=y,x\n",
    "\n",
    "print(f'Value of x: {x}')\n",
    "print(f'Value of y: {y}')"
   ]
  },
  {
   "cell_type": "markdown",
   "id": "70d82ff7",
   "metadata": {},
   "source": [
    "###### ------------------------------------------------------------------------------------------------------------------------------------------------------------------------------------------------------------------"
   ]
  },
  {
   "cell_type": "markdown",
   "id": "cc63c996",
   "metadata": {},
   "source": [
    "## Q5. Write a Python program to generate a random number."
   ]
  },
  {
   "cell_type": "markdown",
   "id": "19e9f9c1",
   "metadata": {},
   "source": [
    "#### Ans-"
   ]
  },
  {
   "cell_type": "code",
   "execution_count": 17,
   "id": "d85ae306",
   "metadata": {},
   "outputs": [
    {
     "name": "stdout",
     "output_type": "stream",
     "text": [
      "The random number is: 87\n"
     ]
    }
   ],
   "source": [
    "from random import randint\n",
    "\n",
    "def rand(start_range,end_range):\n",
    "    return randint(start_range,end_range)\n",
    "\n",
    "print(f\"The random number is: {rand(5,100)}\")"
   ]
  },
  {
   "cell_type": "markdown",
   "id": "b3b25385",
   "metadata": {},
   "source": [
    "###### ------------------------------------------------------------------------------------------------------------------------------------------------------------------------------------------------------------------"
   ]
  }
 ],
 "metadata": {
  "kernelspec": {
   "display_name": "Python 3 (ipykernel)",
   "language": "python",
   "name": "python3"
  },
  "language_info": {
   "codemirror_mode": {
    "name": "ipython",
    "version": 3
   },
   "file_extension": ".py",
   "mimetype": "text/x-python",
   "name": "python",
   "nbconvert_exporter": "python",
   "pygments_lexer": "ipython3",
   "version": "3.9.13"
  }
 },
 "nbformat": 4,
 "nbformat_minor": 5
}
