{
 "cells": [
  {
   "cell_type": "markdown",
   "id": "e96c456b",
   "metadata": {},
   "source": [
    "# Python Basics"
   ]
  },
  {
   "cell_type": "markdown",
   "id": "508bb2f7",
   "metadata": {},
   "source": [
    "## Assignment 10"
   ]
  },
  {
   "cell_type": "markdown",
   "id": "4a794113",
   "metadata": {},
   "source": [
    "# "
   ]
  },
  {
   "cell_type": "markdown",
   "id": "8493d540",
   "metadata": {},
   "source": [
    "## Q1. How do you distinguish between shutil.copy() and shutil.copytree()?"
   ]
  },
  {
   "cell_type": "markdown",
   "id": "a80c31af",
   "metadata": {},
   "source": [
    "#### Ans-"
   ]
  },
  {
   "cell_type": "markdown",
   "id": "d1fde218",
   "metadata": {},
   "source": [
    "shutil. copy() - copy a single file. \n",
    "\n",
    "shutil. copytree() - copy an entire folder and every folder and file contained in it."
   ]
  },
  {
   "cell_type": "markdown",
   "id": "de6c1acd",
   "metadata": {},
   "source": [
    "###### ------------------------------------------------------------------------------------------------------------------------------------------------------------------------------------------------------------------"
   ]
  },
  {
   "cell_type": "markdown",
   "id": "789a1596",
   "metadata": {},
   "source": [
    "## Q2. What function is used to rename files??"
   ]
  },
  {
   "cell_type": "markdown",
   "id": "5ae8394d",
   "metadata": {},
   "source": [
    "#### Ans-"
   ]
  },
  {
   "cell_type": "markdown",
   "id": "db980fb4",
   "metadata": {},
   "source": [
    "os.rename(oldName, newName)"
   ]
  },
  {
   "cell_type": "markdown",
   "id": "649b867d",
   "metadata": {},
   "source": [
    "###### ------------------------------------------------------------------------------------------------------------------------------------------------------------------------------------------------------------------"
   ]
  },
  {
   "cell_type": "markdown",
   "id": "2610abf5",
   "metadata": {},
   "source": [
    "## Q3. What is the difference between the delete functions in the send2trash and shutil modules?"
   ]
  },
  {
   "cell_type": "markdown",
   "id": "707c7d04",
   "metadata": {},
   "source": [
    "#### Ans-"
   ]
  },
  {
   "cell_type": "markdown",
   "id": "846a9d38",
   "metadata": {},
   "source": [
    "The send2trash functions will move a file or folder to the recycle bin\n",
    "\n",
    "shutil functions will permanently delete files and folders."
   ]
  },
  {
   "cell_type": "markdown",
   "id": "c1561ec1",
   "metadata": {},
   "source": [
    "###### ------------------------------------------------------------------------------------------------------------------------------------------------------------------------------------------------------------------"
   ]
  },
  {
   "cell_type": "markdown",
   "id": "1fc3210a",
   "metadata": {},
   "source": [
    "## Q4.ZipFile objects have a close() method just like File objects’ close() method. What ZipFile method is equivalent to File objects’ open() method?"
   ]
  },
  {
   "cell_type": "markdown",
   "id": "d5b4c42d",
   "metadata": {},
   "source": [
    "#### Ans-"
   ]
  },
  {
   "cell_type": "markdown",
   "id": "013ac286",
   "metadata": {},
   "source": [
    "zipfile.ZipFile()"
   ]
  },
  {
   "cell_type": "markdown",
   "id": "80639d82",
   "metadata": {},
   "source": [
    "###### ------------------------------------------------------------------------------------------------------------------------------------------------------------------------------------------------------------------"
   ]
  },
  {
   "cell_type": "markdown",
   "id": "f4c1d3e8",
   "metadata": {},
   "source": [
    "## Q5. Create a programme that searches a folder tree for files with a certain file extension (such as .pdf or .jpg). Copy these files from whatever location they are in to a new folder."
   ]
  },
  {
   "cell_type": "markdown",
   "id": "55591b18",
   "metadata": {},
   "source": [
    "#### Ans-"
   ]
  },
  {
   "cell_type": "code",
   "execution_count": 5,
   "id": "cf651953",
   "metadata": {},
   "outputs": [],
   "source": [
    "import os\n",
    "import shutil\n",
    "\n",
    "def Formatfilecopy(source_path,destination_path,extension):\n",
    "    try:\n",
    "        \n",
    "        for file in os.listdir(source_path):\n",
    "            if file.endswith(extension):\n",
    "                source=os.path.join(source_path,file)\n",
    "                shutil.copy(source,destination_path)\n",
    "        print('Files of same format duplicated')\n",
    "\n",
    "    # If source and destination are same\n",
    "    except shutil.SameFileError:\n",
    "        print(\"Source and destination represents the same file.\")\n",
    "\n",
    "    # If there is any permission issue\n",
    "    except PermissionError:\n",
    "        print(\"Permission denied.\")\n",
    "\n",
    "    # For other errors\n",
    "    except:\n",
    "        print(\"Error occurred while copying file.\")"
   ]
  },
  {
   "cell_type": "code",
   "execution_count": 6,
   "id": "d604116d",
   "metadata": {},
   "outputs": [
    {
     "name": "stdout",
     "output_type": "stream",
     "text": [
      "Files of same format duplicated\n"
     ]
    }
   ],
   "source": [
    "Formatfilecopy('F:\\From','F:\\To','.docx')"
   ]
  },
  {
   "cell_type": "markdown",
   "id": "9b13e4ab",
   "metadata": {},
   "source": [
    "###### ------------------------------------------------------------------------------------------------------------------------------------------------------------------------------------------------------------------"
   ]
  }
 ],
 "metadata": {
  "kernelspec": {
   "display_name": "Python 3 (ipykernel)",
   "language": "python",
   "name": "python3"
  },
  "language_info": {
   "codemirror_mode": {
    "name": "ipython",
    "version": 3
   },
   "file_extension": ".py",
   "mimetype": "text/x-python",
   "name": "python",
   "nbconvert_exporter": "python",
   "pygments_lexer": "ipython3",
   "version": "3.9.13"
  }
 },
 "nbformat": 4,
 "nbformat_minor": 5
}
