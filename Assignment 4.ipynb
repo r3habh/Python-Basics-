{
 "cells": [
  {
   "cell_type": "markdown",
   "id": "c258865f",
   "metadata": {},
   "source": [
    "# Python-Basics"
   ]
  },
  {
   "cell_type": "markdown",
   "id": "daf3e9fa",
   "metadata": {},
   "source": [
    "## Assignment 4 : Lists,Tuples and Strings"
   ]
  },
  {
   "cell_type": "markdown",
   "id": "95ccba04",
   "metadata": {},
   "source": [
    "## "
   ]
  },
  {
   "cell_type": "markdown",
   "id": "7d0316d2",
   "metadata": {},
   "source": [
    "## Q1. What exactly is []?"
   ]
  },
  {
   "cell_type": "markdown",
   "id": "19976886",
   "metadata": {},
   "source": [
    "#### Ans-"
   ]
  },
  {
   "cell_type": "markdown",
   "id": "978bfacc",
   "metadata": {},
   "source": [
    "It is an empty list."
   ]
  },
  {
   "cell_type": "markdown",
   "id": "245e0a95",
   "metadata": {},
   "source": [
    "###### ------------------------------------------------------------------------------------------------------------------------------------------------------------------------------------------------------------------"
   ]
  },
  {
   "cell_type": "markdown",
   "id": "040ee1e5",
   "metadata": {},
   "source": [
    "## Q2. In a list of values stored in a variable called spam, how would you assign the value &#39;hello&#39; as the third value? (Assume [2, 4, 6, 8, 10] are in spam.) "
   ]
  },
  {
   "cell_type": "markdown",
   "id": "af69de97",
   "metadata": {},
   "source": [
    "#### Ans-"
   ]
  },
  {
   "cell_type": "code",
   "execution_count": 2,
   "id": "2441c4c1",
   "metadata": {},
   "outputs": [
    {
     "data": {
      "text/plain": [
       "[2, 4, 'hello', 8, 10]"
      ]
     },
     "execution_count": 2,
     "metadata": {},
     "output_type": "execute_result"
    }
   ],
   "source": [
    "spam=[2, 4, 6, 8, 10]\n",
    "spam[2]='hello'\n",
    "spam"
   ]
  },
  {
   "cell_type": "markdown",
   "id": "91dddc41",
   "metadata": {},
   "source": [
    "###### ------------------------------------------------------------------------------------------------------------------------------------------------------------------------------------------------------------------"
   ]
  },
  {
   "cell_type": "markdown",
   "id": "91c747a7",
   "metadata": {},
   "source": [
    "## Let&#39;s pretend the spam includes the list [&#39;a&#39;, &#39;b&#39;, &#39;c&#39;, &#39;d&#39;] for the next three queries."
   ]
  },
  {
   "cell_type": "markdown",
   "id": "8cfa14b7",
   "metadata": {},
   "source": [
    "## Q3. What is the value of spam[int(int(&#39;3&#39; * 2) / 11)]?"
   ]
  },
  {
   "cell_type": "markdown",
   "id": "816b294f",
   "metadata": {},
   "source": [
    "#### Ans-"
   ]
  },
  {
   "cell_type": "markdown",
   "id": "ab264ec6",
   "metadata": {},
   "source": [
    "int('3' * 2)= int('33')\n",
    "\n",
    "int(33/11)=3\n",
    "\n",
    "spam[3] = 'd'"
   ]
  },
  {
   "cell_type": "markdown",
   "id": "1b0e2d6b",
   "metadata": {},
   "source": [
    "## "
   ]
  },
  {
   "cell_type": "markdown",
   "id": "3e74ae34",
   "metadata": {},
   "source": [
    "## Q4. What is the value of spam[-1]?"
   ]
  },
  {
   "cell_type": "markdown",
   "id": "434cd6fb",
   "metadata": {},
   "source": [
    "#### Ans-"
   ]
  },
  {
   "cell_type": "markdown",
   "id": "61c83730",
   "metadata": {},
   "source": [
    "'d'"
   ]
  },
  {
   "cell_type": "markdown",
   "id": "238740a9",
   "metadata": {},
   "source": [
    "## "
   ]
  },
  {
   "cell_type": "markdown",
   "id": "b3e063fd",
   "metadata": {},
   "source": [
    "## Q5. What is the value of spam[:2]? "
   ]
  },
  {
   "cell_type": "markdown",
   "id": "b2f6e3ad",
   "metadata": {},
   "source": [
    "#### Ans-"
   ]
  },
  {
   "cell_type": "markdown",
   "id": "7999eaef",
   "metadata": {},
   "source": [
    "['a','b']"
   ]
  },
  {
   "cell_type": "markdown",
   "id": "bad6a09d",
   "metadata": {},
   "source": [
    "###### ------------------------------------------------------------------------------------------------------------------------------------------------------------------------------------------------------------------"
   ]
  },
  {
   "cell_type": "markdown",
   "id": "5a1483be",
   "metadata": {},
   "source": [
    "## Let&#39;s pretend bacon has the list [3.14, &#39;cat,&#39; 11, &#39;cat,&#39; True] for the next three questions."
   ]
  },
  {
   "cell_type": "markdown",
   "id": "eec90f99",
   "metadata": {},
   "source": [
    "## Q6. What is the value of bacon.index(&#39;cat&#39;)?"
   ]
  },
  {
   "cell_type": "markdown",
   "id": "b12ff0fa",
   "metadata": {},
   "source": [
    "#### Ans- "
   ]
  },
  {
   "cell_type": "markdown",
   "id": "d5ed9ef7",
   "metadata": {},
   "source": [
    "1 - Only the index of first occurence will be given."
   ]
  },
  {
   "cell_type": "markdown",
   "id": "f61ef8dd",
   "metadata": {},
   "source": [
    "## "
   ]
  },
  {
   "cell_type": "markdown",
   "id": "0f882e93",
   "metadata": {},
   "source": [
    "## Q7. How does bacon.append(99) change the look of the list value in bacon?"
   ]
  },
  {
   "cell_type": "markdown",
   "id": "e4202c1a",
   "metadata": {},
   "source": [
    "#### Ans-"
   ]
  },
  {
   "cell_type": "markdown",
   "id": "c4621d74",
   "metadata": {},
   "source": [
    "bacon=[3.14, 'cat,' 11, 'cat,' True, 99]"
   ]
  },
  {
   "cell_type": "markdown",
   "id": "2f612638",
   "metadata": {},
   "source": [
    "## "
   ]
  },
  {
   "cell_type": "markdown",
   "id": "bcc00456",
   "metadata": {},
   "source": [
    "## Q8. How does bacon.remove(&#39;cat&#39;) change the look of the list in bacon?"
   ]
  },
  {
   "cell_type": "markdown",
   "id": "b05e234e",
   "metadata": {},
   "source": [
    "#### Ans-"
   ]
  },
  {
   "cell_type": "markdown",
   "id": "c1d4d0b2",
   "metadata": {},
   "source": [
    "It removes the first occurence of item to be removed \n",
    "\n",
    "bacon=[3.14, 11, 'cat,' True, 99]"
   ]
  },
  {
   "cell_type": "markdown",
   "id": "b944a08c",
   "metadata": {},
   "source": [
    "###### ------------------------------------------------------------------------------------------------------------------------------------------------------------------------------------------------------------------"
   ]
  },
  {
   "cell_type": "markdown",
   "id": "73514514",
   "metadata": {},
   "source": [
    "## Q9. What are the list concatenation and list replication operators?"
   ]
  },
  {
   "cell_type": "markdown",
   "id": "d0d19412",
   "metadata": {},
   "source": [
    "#### Ans-"
   ]
  },
  {
   "cell_type": "code",
   "execution_count": 3,
   "id": "760dd651",
   "metadata": {},
   "outputs": [
    {
     "data": {
      "text/plain": [
       "[1, 2, 3, 4]"
      ]
     },
     "execution_count": 3,
     "metadata": {},
     "output_type": "execute_result"
    }
   ],
   "source": [
    "# List Concatenation (+)\n",
    "a=[1,2]\n",
    "b=[3,4]\n",
    "\n",
    "a+b"
   ]
  },
  {
   "cell_type": "code",
   "execution_count": 4,
   "id": "7b1d741d",
   "metadata": {},
   "outputs": [
    {
     "data": {
      "text/plain": [
       "[1, 2, 1, 2, 1, 2]"
      ]
     },
     "execution_count": 4,
     "metadata": {},
     "output_type": "execute_result"
    }
   ],
   "source": [
    "# List Replication (*)\n",
    "a=[1,2]\n",
    "\n",
    "a*3"
   ]
  },
  {
   "cell_type": "markdown",
   "id": "43c5c13a",
   "metadata": {},
   "source": [
    "###### ------------------------------------------------------------------------------------------------------------------------------------------------------------------------------------------------------------------"
   ]
  },
  {
   "cell_type": "markdown",
   "id": "db728f2a",
   "metadata": {},
   "source": [
    "## Q10. What is difference between the list methods append() and insert()?"
   ]
  },
  {
   "cell_type": "markdown",
   "id": "afa65ea6",
   "metadata": {},
   "source": [
    "#### Ans-"
   ]
  },
  {
   "cell_type": "markdown",
   "id": "798e2ce0",
   "metadata": {},
   "source": [
    "With insert function, one can add elements at specific indexes. On the contrary, append function adds the element at end of the list."
   ]
  },
  {
   "cell_type": "code",
   "execution_count": 28,
   "id": "ce818a98",
   "metadata": {},
   "outputs": [
    {
     "name": "stdout",
     "output_type": "stream",
     "text": [
      "[1, 2, 3, 10, 4]\n"
     ]
    }
   ],
   "source": [
    "# Insert()\n",
    "a=[1,2,3,4]\n",
    "a.insert(3,10)\n",
    "print(a)"
   ]
  },
  {
   "cell_type": "code",
   "execution_count": 30,
   "id": "36d1b76d",
   "metadata": {},
   "outputs": [
    {
     "name": "stdout",
     "output_type": "stream",
     "text": [
      "[1, 2, 3, 4, 10]\n"
     ]
    }
   ],
   "source": [
    "# Append()\n",
    "a=[1,2,3,4]\n",
    "a.append(10)\n",
    "print(a)"
   ]
  },
  {
   "cell_type": "markdown",
   "id": "76c41741",
   "metadata": {},
   "source": [
    "###### ------------------------------------------------------------------------------------------------------------------------------------------------------------------------------------------------------------------"
   ]
  },
  {
   "cell_type": "markdown",
   "id": "3463b07a",
   "metadata": {},
   "source": [
    "## Q11. What are the two methods for removing items from a list?"
   ]
  },
  {
   "cell_type": "markdown",
   "id": "b49ebf30",
   "metadata": {},
   "source": [
    "#### Ans-"
   ]
  },
  {
   "cell_type": "markdown",
   "id": "c8aed5b6",
   "metadata": {},
   "source": [
    "Remove() and pop()"
   ]
  },
  {
   "cell_type": "code",
   "execution_count": 31,
   "id": "134b10a8",
   "metadata": {},
   "outputs": [
    {
     "data": {
      "text/plain": [
       "[1, 2, 3, 5, 4, 3, 2, 1]"
      ]
     },
     "execution_count": 31,
     "metadata": {},
     "output_type": "execute_result"
    }
   ],
   "source": [
    "# Remove() -Only first instance will be removed\n",
    "a=[1,2,3,4,5,4,3,2,1]\n",
    "a.remove(4)\n",
    "a"
   ]
  },
  {
   "cell_type": "code",
   "execution_count": 14,
   "id": "55bc5397",
   "metadata": {},
   "outputs": [
    {
     "data": {
      "text/plain": [
       "4"
      ]
     },
     "execution_count": 14,
     "metadata": {},
     "output_type": "execute_result"
    }
   ],
   "source": [
    "# Pop() - Uses index instead of element to remove it and gives only the removed item as output.\n",
    "b=[1,2,3,4,5,4,3,2,1]\n",
    "b.pop(3)"
   ]
  },
  {
   "cell_type": "code",
   "execution_count": 15,
   "id": "c11a39aa",
   "metadata": {},
   "outputs": [
    {
     "data": {
      "text/plain": [
       "[1, 2, 3, 5, 4, 3, 2, 1]"
      ]
     },
     "execution_count": 15,
     "metadata": {},
     "output_type": "execute_result"
    }
   ],
   "source": [
    "b"
   ]
  },
  {
   "cell_type": "markdown",
   "id": "afdaf86e",
   "metadata": {},
   "source": [
    "###### ------------------------------------------------------------------------------------------------------------------------------------------------------------------------------------------------------------------"
   ]
  },
  {
   "cell_type": "markdown",
   "id": "69d0d009",
   "metadata": {},
   "source": [
    "## Q12. Describe how list values and string values are identical."
   ]
  },
  {
   "cell_type": "markdown",
   "id": "ce90c57b",
   "metadata": {},
   "source": [
    "#### Ans-"
   ]
  },
  {
   "cell_type": "markdown",
   "id": "858af550",
   "metadata": {},
   "source": [
    "Values in lists and strings are iterable in loops and are indexed."
   ]
  },
  {
   "cell_type": "markdown",
   "id": "869086c0",
   "metadata": {},
   "source": [
    "###### ------------------------------------------------------------------------------------------------------------------------------------------------------------------------------------------------------------------"
   ]
  },
  {
   "cell_type": "markdown",
   "id": "2adf44dd",
   "metadata": {},
   "source": [
    "## Q13. What&#39;s the difference between tuples and lists?"
   ]
  },
  {
   "cell_type": "markdown",
   "id": "09bd81c7",
   "metadata": {},
   "source": [
    "#### Ans-"
   ]
  },
  {
   "cell_type": "markdown",
   "id": "28a19f86",
   "metadata": {},
   "source": [
    "Lists are mutable and tuples are immutable."
   ]
  },
  {
   "cell_type": "markdown",
   "id": "3e40d332",
   "metadata": {},
   "source": [
    "###### ------------------------------------------------------------------------------------------------------------------------------------------------------------------------------------------------------------------"
   ]
  },
  {
   "cell_type": "markdown",
   "id": "03a7a5c7",
   "metadata": {},
   "source": [
    "## Q14. How do you type a tuple value that only contains the integer 42?"
   ]
  },
  {
   "cell_type": "markdown",
   "id": "dba31ffb",
   "metadata": {},
   "source": [
    "#### Ans-"
   ]
  },
  {
   "cell_type": "code",
   "execution_count": 18,
   "id": "e7e397c7",
   "metadata": {},
   "outputs": [
    {
     "data": {
      "text/plain": [
       "tuple"
      ]
     },
     "execution_count": 18,
     "metadata": {},
     "output_type": "execute_result"
    }
   ],
   "source": [
    "tup=(42,)\n",
    "type(tup)"
   ]
  },
  {
   "cell_type": "markdown",
   "id": "89daf45a",
   "metadata": {},
   "source": [
    "###### ------------------------------------------------------------------------------------------------------------------------------------------------------------------------------------------------------------------"
   ]
  },
  {
   "cell_type": "markdown",
   "id": "52625f7e",
   "metadata": {},
   "source": [
    "## Q15. How do you get a list value&#39;s tuple form? How do you get a tuple value&#39;s list form?"
   ]
  },
  {
   "cell_type": "markdown",
   "id": "c548585e",
   "metadata": {},
   "source": [
    "#### Ans-"
   ]
  },
  {
   "cell_type": "code",
   "execution_count": 25,
   "id": "7312f7ab",
   "metadata": {},
   "outputs": [
    {
     "name": "stdout",
     "output_type": "stream",
     "text": [
      "<class 'list'>\n",
      "<class 'tuple'>\n"
     ]
    }
   ],
   "source": [
    "# Tuple conversion\n",
    "a=[1,2,3]\n",
    "print(type(a))\n",
    "\n",
    "a=tuple(a)\n",
    "print(type(a))"
   ]
  },
  {
   "cell_type": "code",
   "execution_count": 26,
   "id": "a769e7d1",
   "metadata": {},
   "outputs": [
    {
     "name": "stdout",
     "output_type": "stream",
     "text": [
      "<class 'tuple'>\n",
      "<class 'list'>\n"
     ]
    }
   ],
   "source": [
    "# List conversion\n",
    "a=(1,2,3)\n",
    "print(type(a))\n",
    "\n",
    "a=list(a)\n",
    "print(type(a))"
   ]
  },
  {
   "cell_type": "markdown",
   "id": "907cb230",
   "metadata": {},
   "source": [
    "###### ------------------------------------------------------------------------------------------------------------------------------------------------------------------------------------------------------------------"
   ]
  },
  {
   "cell_type": "markdown",
   "id": "8fdd9554",
   "metadata": {},
   "source": [
    "## Q16. Variables that &quot;contain&quot; list values are not necessarily lists themselves. Instead, what do they contain?"
   ]
  },
  {
   "cell_type": "markdown",
   "id": "3a782a4e",
   "metadata": {},
   "source": [
    "#### Ans-"
   ]
  },
  {
   "cell_type": "markdown",
   "id": "a7769e04",
   "metadata": {},
   "source": [
    "Variables will contain references to list values."
   ]
  },
  {
   "cell_type": "markdown",
   "id": "cfcc8b27",
   "metadata": {},
   "source": [
    "###### ------------------------------------------------------------------------------------------------------------------------------------------------------------------------------------------------------------------"
   ]
  },
  {
   "cell_type": "markdown",
   "id": "91d0b53c",
   "metadata": {},
   "source": [
    "## Q17. How do you distinguish between copy.copy() and copy.deepcopy()?"
   ]
  },
  {
   "cell_type": "markdown",
   "id": "14034383",
   "metadata": {},
   "source": [
    "#### Ans-"
   ]
  },
  {
   "cell_type": "markdown",
   "id": "0f2703f8",
   "metadata": {},
   "source": [
    "Copy()- will create reference to original object, the original object will be changed if copied one is changed."
   ]
  },
  {
   "cell_type": "markdown",
   "id": "3c16fc16",
   "metadata": {},
   "source": [
    "Deepcopy()- It copies the original object and creates a new object."
   ]
  },
  {
   "cell_type": "markdown",
   "id": "9df1446c",
   "metadata": {},
   "source": [
    "###### ------------------------------------------------------------------------------------------------------------------------------------------------------------------------------------------------------------------"
   ]
  }
 ],
 "metadata": {
  "kernelspec": {
   "display_name": "Python 3 (ipykernel)",
   "language": "python",
   "name": "python3"
  },
  "language_info": {
   "codemirror_mode": {
    "name": "ipython",
    "version": 3
   },
   "file_extension": ".py",
   "mimetype": "text/x-python",
   "name": "python",
   "nbconvert_exporter": "python",
   "pygments_lexer": "ipython3",
   "version": "3.9.13"
  }
 },
 "nbformat": 4,
 "nbformat_minor": 5
}
